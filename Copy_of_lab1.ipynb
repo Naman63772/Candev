{
  "cells": [
    {
      "cell_type": "markdown",
      "metadata": {
        "id": "view-in-github",
        "colab_type": "text"
      },
      "source": [
        "<a href=\"https://colab.research.google.com/github/Naman63772/Candev/blob/master/Copy_of_lab1.ipynb\" target=\"_parent\"><img src=\"https://colab.research.google.com/assets/colab-badge.svg\" alt=\"Open In Colab\"/></a>"
      ]
    },
    {
      "cell_type": "markdown",
      "source": [
        ""
      ],
      "metadata": {
        "id": "An3WK-AlDxdR"
      }
    },
    {
      "cell_type": "markdown",
      "metadata": {
        "collapsed": true,
        "pycharm": {
          "name": "#%% md\n"
        },
        "id": "UO4namhuBH3l"
      },
      "source": [
        "COMP 215 - LAB 1\n",
        "----------------\n",
        "#### Name: Namandeep\n",
        "#### Date: 2022, Jan 18\n",
        "This lab exercise is mostly to introduce some of the power in Jupyter Notebooks.\n",
        "Note that a Notebook is composed of \"cells\" - some are \"text\", like this one, while others are \"code\"\n",
        "\n",
        "The code cell below simply imports all the modules we'll be using..."
      ]
    },
    {
      "cell_type": "code",
      "source": [
        "import datetime, json, requests\n",
        "import matplotlib.pyplot as plt\n",
        "import  matplotlib.dates as mdates\n",
        "from pprint import pprint"
      ],
      "metadata": {
        "pycharm": {
          "name": "#%%\n"
        },
        "id": "DqSJNdSdBH3n"
      },
      "execution_count": null,
      "outputs": []
    },
    {
      "cell_type": "markdown",
      "source": [
        "Now, let's fetch some Covid-19 daily case-count data from:  https://opencovid.ca/api/\n",
        "\n",
        "Query:\n",
        "  - `stat=cases`        # the type of data to fetch\n",
        "  - `loc=BC`            # the location to fetch data for\n",
        "  - `after=01-12-2021`  # since the 1st of december (note date format:  dd-mm-yyyy)"
      ],
      "metadata": {
        "collapsed": false,
        "id": "0rnf67FTBH3p"
      }
    },
    {
      "cell_type": "code",
      "execution_count": null,
      "outputs": [
        {
          "output_type": "stream",
          "name": "stdout",
          "text": [
            "{\"cases\":[{\"cases\":72,\"cumulative_cases\":45049,\"date_report\":\"01-12-2021\",\"health_region\":\"Vancouver Coastal\",\"province\":\"BC\"},{\"cases\":48,\"cumulative_cases\":45097,\"date_report\":\"02-12-2021\",\"health_region\":\"Vancouver Coastal\",\"province\":\"BC\"},{\"cases\":45,\"cumulative_cases\":45142,\"date_report\":\"03-12-2021\",\"health_region\":\"Vancouver Coastal\",\"province\":\"BC\"},{\"cases\":0,\"cumulative_cases\":45142,\"date_report\":\"04-12-2021\",\"health_region\":\"Vancouver Coastal\",\"province\":\"BC\"},{\"cases\":0,\"cumulative_cases\":45142,\"date_report\":\"05-12-2021\",\"health_region\":\"Vancouver Coastal\",\"province\":\"BC\"},{\"cases\":138,\"cumulative_cases\":45280,\"date_report\":\"06-12-2021\",\"health_region\":\"Vancouver Coastal\",\"province\":\"BC\"},{\"cases\":53,\"cumulative_cases\":45333,\"date_report\":\"07-12-2021\",\"health_region\":\"Vancouver Coastal\",\"province\":\"BC\"},{\"cases\":64,\"cumulative_cases\":45397,\"date_report\":\"08-12-2021\",\"health_region\":\"Vancouver Coastal\",\"province\":\"BC\"},{\"cases\":61,\"cumulative_cases\":45458,\"date_report\":\"09-12-2021\",\"health_region\":\"Vancouver Coastal\",\"province\":\"BC\"},{\"cases\":90,\"cumulative_cases\":45548,\"date_report\":\"10-12-2021\",\"health_region\":\"Vancouver Coastal\",\"province\":\"BC\"},{\"cases\":0,\"cumulative_cases\":45548,\"date_report\":\"11-12-2021\",\"health_region\":\"Vancouver Coastal\",\"province\":\"BC\"},{\"cases\":0,\"cumulative_cases\":45548,\"date_report\":\"12-12-2021\",\"health_region\":\"Vancouver Coastal\",\"province\":\"BC\"},{\"cases\":202,\"cumulative_cases\":45750,\"date_report\":\"13-12-2021\",\"health_region\":\"Vancouver Coastal\",\"province\":\"BC\"},{\"cases\":106,\"cumulative_cases\":45856,\"date_report\":\"14-12-2021\",\"health_region\":\"Vancouver Coastal\",\"province\":\"BC\"},{\"cases\":180,\"cumulative_cases\":46036,\"date_report\":\"15-12-2021\",\"health_region\":\"Vancouver Coastal\",\"province\":\"BC\"},{\"cases\":240,\"cumulative_cases\":46276,\"date_report\":\"16-12-2021\",\"health_region\":\"Vancouver Coastal\",\"province\":\"BC\"},{\"cases\":286,\"cumulative_cases\":46562,\"date_report\":\"17-12-2021\",\"health_region\":\"Vancouver Coastal\",\"province\":\"BC\"},{\"cases\":0,\"cumulative_cases\":46562,\"date_report\":\"18-12-2021\",\"health_region\":\"Vancouver Coastal\",\"province\":\"BC\"},{\"cases\":0,\"cumulative_cases\":46562,\"date_report\":\"19-12-2021\",\"health_region\":\"Vancouver Coastal\",\"province\":\"BC\"},{\"cases\":909,\"cumulative_cases\":47471,\"date_report\":\"20-12-2021\",\"health_region\":\"Vancouver Coastal\",\"province\":\"BC\"},{\"cases\":525,\"cumulative_cases\":47996,\"date_report\":\"21-12-2021\",\"health_region\":\"Vancouver Coastal\",\"province\":\"BC\"},{\"cases\":709,\"cumulative_cases\":48705,\"date_report\":\"22-12-2021\",\"health_region\":\"Vancouver Coastal\",\"province\":\"BC\"},{\"cases\":880,\"cumulative_cases\":49585,\"date_report\":\"23-12-2021\",\"health_region\":\"Vancouver Coastal\",\"province\":\"BC\"},{\"cases\":967,\"cumulative_cases\":50552,\"date_report\":\"24-12-2021\",\"health_region\":\"Vancouver Coastal\",\"province\":\"BC\"},{\"cases\":674,\"cumulative_cases\":51226,\"date_report\":\"25-12-2021\",\"health_region\":\"Vancouver Coastal\",\"province\":\"BC\"},{\"cases\":451,\"cumulative_cases\":51677,\"date_report\":\"26-12-2021\",\"health_region\":\"Vancouver Coastal\",\"province\":\"BC\"},{\"cases\":352,\"cumulative_cases\":52029,\"date_report\":\"27-12-2021\",\"health_region\":\"Vancouver Coastal\",\"province\":\"BC\"},{\"cases\":402,\"cumulative_cases\":52431,\"date_report\":\"28-12-2021\",\"health_region\":\"Vancouver Coastal\",\"province\":\"BC\"},{\"cases\":571,\"cumulative_cases\":53002,\"date_report\":\"29-12-2021\",\"health_region\":\"Vancouver Coastal\",\"province\":\"BC\"},{\"cases\":977,\"cumulative_cases\":53979,\"date_report\":\"30-12-2021\",\"health_region\":\"Vancouver Coastal\",\"province\":\"BC\"},{\"cases\":965,\"cumulative_cases\":54944,\"date_report\":\"31-12-2021\",\"health_region\":\"Vancouver Coastal\",\"province\":\"BC\"},{\"cases\":0,\"cumulative_cases\":54944,\"date_report\":\"01-01-2022\",\"health_region\":\"Vancouver Coastal\",\"province\":\"BC\"},{\"cases\":0,\"cumulative_cases\":54944,\"date_report\":\"02-01-2022\",\"health_region\":\"Vancouver Coastal\",\"province\":\"BC\"},{\"cases\":1797,\"cumulative_cases\":56741,\"date_report\":\"03-01-2022\",\"health_region\":\"Vancouver Coastal\",\"province\":\"BC\"},{\"cases\":325,\"cumulative_cases\":57066,\"date_report\":\"04-01-2022\",\"health_region\":\"Vancouver Coastal\",\"province\":\"BC\"},{\"cases\":840,\"cumulative_cases\":57906,\"date_report\":\"05-01-2022\",\"health_region\":\"Vancouver Coastal\",\"province\":\"BC\"},{\"cases\":662,\"cumulative_cases\":58568,\"date_report\":\"06-01-2022\",\"health_region\":\"Vancouver Coastal\",\"province\":\"BC\"},{\"cases\":483,\"cumulative_cases\":59051,\"date_report\":\"07-01-2022\",\"health_region\":\"Vancouver Coastal\",\"province\":\"BC\"},{\"cases\":0,\"cumulative_cases\":59051,\"date_report\":\"08-01-2022\",\"health_region\":\"Vancouver Coastal\",\"province\":\"BC\"},{\"cases\":0,\"cumulative_cases\":59051,\"date_report\":\"09-01-2022\",\"health_region\":\"Vancouver Coastal\",\"province\":\"BC\"},{\"cases\":1067,\"cumulative_cases\":60118,\"date_report\":\"10-01-2022\",\"health_region\":\"Vancouver Coastal\",\"province\":\"BC\"},{\"cases\":383,\"cumulative_cases\":60501,\"date_report\":\"11-01-2022\",\"health_region\":\"Vancouver Coastal\",\"province\":\"BC\"},{\"cases\":522,\"cumulative_cases\":61023,\"date_report\":\"12-01-2022\",\"health_region\":\"Vancouver Coastal\",\"province\":\"BC\"},{\"cases\":485,\"cumulative_cases\":61508,\"date_report\":\"13-01-2022\",\"health_region\":\"Vancouver Coastal\",\"province\":\"BC\"},{\"cases\":523,\"cumulative_cases\":62031,\"date_report\":\"14-01-2022\",\"health_region\":\"Vancouver Coastal\",\"province\":\"BC\"},{\"cases\":0,\"cumulative_cases\":62031,\"date_report\":\"15-01-2022\",\"health_region\":\"Vancouver Coastal\",\"province\":\"BC\"},{\"cases\":0,\"cumulative_cases\":62031,\"date_report\":\"16-01-2022\",\"health_region\":\"Vancouver Coastal\",\"province\":\"BC\"},{\"cases\":1155,\"cumulative_cases\":63186,\"date_report\":\"17-01-2022\",\"health_region\":\"Vancouver Coastal\",\"province\":\"BC\"}]}\n",
            "\n"
          ]
        }
      ],
      "source": [
        "query = 'https://api.opencovid.ca/timeseries?stat=cases&loc=595&after=01-12-2021'\n",
        "\n",
        "response = requests.request(\"GET\", query, headers={}, data={})\n",
        "print(response.text)"
      ],
      "metadata": {
        "pycharm": {
          "name": "#%%\n"
        },
        "id": "Al2T68b2BH3p",
        "outputId": "113d59f0-0f36-422a-ecca-0a50bd042449",
        "colab": {
          "base_uri": "https://localhost:8080/"
        }
      }
    },
    {
      "cell_type": "markdown",
      "source": [
        "Notice that the response is just a string of text (most data is exchanged on the web as plain text!)\n",
        "\n",
        "The `json.loads` function \"parses\" such text and loads the data into a dictionary..."
      ],
      "metadata": {
        "collapsed": false,
        "pycharm": {
          "name": "#%% md\n"
        },
        "id": "np4HQTmABH3q"
      }
    },
    {
      "cell_type": "code",
      "execution_count": null,
      "outputs": [],
      "source": [
        "result = json.loads(response.text)\n",
        "#pprint(result) # remove this comment and re-run this cell to see the resulting dictionary"
      ],
      "metadata": {
        "pycharm": {
          "name": "#%%\n"
        },
        "id": "M5wV1C_0BH3q"
      }
    },
    {
      "cell_type": "markdown",
      "source": [
        "Next we use \"list comprehension\" to extract the list of dates and associated cases into \"parallel lists\"\n",
        "\n",
        "Notice how we convert the date strings, using strptime, into a real date objects so they are easier to work with (format: dd-mm-yyyy)"
      ],
      "metadata": {
        "collapsed": false,
        "pycharm": {
          "name": "#%% md\n"
        },
        "id": "dAXX9kuZBH3r"
      }
    },
    {
      "cell_type": "code",
      "execution_count": null,
      "outputs": [
        {
          "output_type": "stream",
          "name": "stdout",
          "text": [
            "[datetime.date(2021, 12, 1), datetime.date(2021, 12, 2), datetime.date(2021, 12, 3), datetime.date(2021, 12, 4), datetime.date(2021, 12, 5), datetime.date(2021, 12, 6), datetime.date(2021, 12, 7), datetime.date(2021, 12, 8), datetime.date(2021, 12, 9), datetime.date(2021, 12, 10), datetime.date(2021, 12, 11), datetime.date(2021, 12, 12), datetime.date(2021, 12, 13), datetime.date(2021, 12, 14), datetime.date(2021, 12, 15), datetime.date(2021, 12, 16), datetime.date(2021, 12, 17), datetime.date(2021, 12, 18), datetime.date(2021, 12, 19), datetime.date(2021, 12, 20), datetime.date(2021, 12, 21), datetime.date(2021, 12, 22), datetime.date(2021, 12, 23), datetime.date(2021, 12, 24), datetime.date(2021, 12, 25), datetime.date(2021, 12, 26), datetime.date(2021, 12, 27), datetime.date(2021, 12, 28), datetime.date(2021, 12, 29), datetime.date(2021, 12, 30), datetime.date(2021, 12, 31), datetime.date(2022, 1, 1), datetime.date(2022, 1, 2), datetime.date(2022, 1, 3), datetime.date(2022, 1, 4), datetime.date(2022, 1, 5), datetime.date(2022, 1, 6), datetime.date(2022, 1, 7), datetime.date(2022, 1, 8), datetime.date(2022, 1, 9), datetime.date(2022, 1, 10), datetime.date(2022, 1, 11), datetime.date(2022, 1, 12), datetime.date(2022, 1, 13), datetime.date(2022, 1, 14), datetime.date(2022, 1, 15), datetime.date(2022, 1, 16), datetime.date(2022, 1, 17)]\n",
            "[72, 48, 45, 0, 0, 138, 53, 64, 61, 90, 0, 0, 202, 106, 180, 240, 286, 0, 0, 909, 525, 709, 880, 967, 674, 451, 352, 402, 571, 977, 965, 0, 0, 1797, 325, 840, 662, 483, 0, 0, 1067, 383, 522, 485, 523, 0, 0, 1155]\n"
          ]
        }
      ],
      "source": [
        "date_strings = [daily['date_report'] for daily in result['cases']]\n",
        "dates = [datetime.datetime.strptime(date, '%d-%m-%Y').date() for date in date_strings]\n",
        "cases = [daily['cases'] for daily in result['cases']]\n",
        "print(dates)\n",
        "print(cases)"
      ],
      "metadata": {
        "pycharm": {
          "name": "#%%\n"
        },
        "id": "JOFe4vNCBH3s",
        "outputId": "01afd555-4d27-4563-a292-f73dc6cdebb9",
        "colab": {
          "base_uri": "https://localhost:8080/"
        }
      }
    },
    {
      "cell_type": "markdown",
      "source": [
        "Finally, we'll plot the (dates,cases) data as a nice x-y line graph.\n",
        "\n",
        "The code to format the x-axis labels is taken from https://matplotlib.org/stable/gallery/ticks/date_concise_formatter.html\n",
        "\n"
      ],
      "metadata": {
        "collapsed": false,
        "id": "2ow28BuTBH3u"
      }
    },
    {
      "cell_type": "code",
      "execution_count": null,
      "outputs": [
        {
          "output_type": "display_data",
          "data": {
            "image/png": "[encoded data removed]",
            "text/plain": [
              "<Figure size 432x288 with 1 Axes>"
            ]
          },
          "metadata": {
            "needs_background": "light"
          }
        }
      ],
      "source": [
        "def format_date_axis(ax):\n",
        "  \"\"\" format the dates shown on the x-axis of given axes, ax  \"\"\"\n",
        "  locator = mdates.AutoDateLocator(minticks=10, maxticks=20)\n",
        "  formatter = mdates.ConciseDateFormatter(locator)\n",
        "  ax.xaxis.set_major_locator(locator)\n",
        "  ax.xaxis.set_major_formatter(formatter)\n",
        "\n",
        "fig, ax = plt.subplots()\n",
        "format_date_axis(ax)\n",
        "ax.plot(dates, cases, label='Daily Cases')  # Plot some data on the axes.\n",
        "ax.set_xlabel('Date')  # Add an x-label to the axes.\n",
        "ax.set_ylabel('confirmed casess')  # Add a y-label to the axes.\n",
        "ax.set_title(\"Covid-19 case counts for BC\")  # Add a title to the axes.\n",
        "ax.legend();"
      ],
      "metadata": {
        "pycharm": {
          "name": "#%%\n"
        },
        "id": "FgwPH8mTBH3v",
        "outputId": "8e6f5a48-2467-4f2a-a5d0-5d1b1d801e2b",
        "colab": {
          "base_uri": "https://localhost:8080/",
          "height": 295
        }
      }
    },
    {
      "cell_type": "markdown",
      "source": [
        "## Exercise 1\n",
        "\n",
        "In the code cell below, re-write each of the 3 \"list comprehensions\" above as a loop so you understand how they work.\n",
        "\n",
        "Notice that a \"list comprehension\" is a compact way to write a \"list accumlator\" algorithm (and more efficient too!)"
      ],
      "metadata": {
        "collapsed": false,
        "pycharm": {
          "name": "#%% md\n"
        },
        "id": "koVKiju9BH3s"
      }
    },
    {
      "cell_type": "markdown",
      "source": [
        "## Exercise 2\n",
        "\n",
        "Repeat the analysis above, but this time only for Vancouver Coastal Health Region.\n",
        "\n",
        " * Try to modify as little code as you can (should be just a few characters), and re-run the analysis\n",
        " * You can get the location code for each health region here:  https://opencovid.ca/api/#health-region-codes\n",
        " * Can you generalize the code in the 2nd code cell to make it easier to repeat the analysis for different locations?  What about for different dates?\n",
        "\n",
        "## Exercise 3\n",
        "\n",
        "Notice that BC does not report case counts on weekends so the data plot looks erratic.\n",
        "\n",
        " * One way to fix that is to plot a \"7-day rolling average\" instead.\n",
        "Each day, we take the average of the previous 7 days cases.\n",
        " * Add new code cell below, compute the 7-day rolling average for each day from the cases list.\n",
        " * Create a plot to display the rolling average data and compare your plost with the one produced above.\n",
        "\n",
        " Hints: you are free to do this however you like, but a quite elegant solution uses list comprehension, range, and slices\n"
      ],
      "metadata": {
        "collapsed": false,
        "id": "qqeTORnvBH3v"
      }
    },
    {
      "cell_type": "code",
      "source": [
        "date_strings = [daily['date_report'] for daily in result['cases']]\n",
        "dates = [datetime.datetime.strptime(date, '%d-%m-%Y').date() for date in date_strings]\n",
        "cases = [daily['cases'] for daily in result['cases']]\n",
        "#print(dates)\n",
        "#print(cases)\n",
        "\n",
        "avg_cases=[ ]\n",
        "for i in range (len(cases)):\n",
        "  if i<=6:\n",
        "    avg_cases.append(cases[i])\n",
        "  if i>6:\n",
        "    avg_cases.append((cases[i-1]+cases[i-2]+cases[i-3]+cases[i-4]+cases[i-5]+cases[i-6]+cases[i-7])/7)\n",
        "\n",
        "\n",
        "\n",
        "print(avg_cases)"
      ],
      "metadata": {
        "id": "9AKIhK99RBFW",
        "outputId": "01a2909e-9114-47e5-8a06-5b09ce4b8800",
        "colab": {
          "base_uri": "https://localhost:8080/"
        }
      },
      "execution_count": null,
      "outputs": [
        {
          "output_type": "stream",
          "name": "stdout",
          "text": [
            "[72, 48, 45, 0, 0, 138, 53, 50.857142857142854, 49.714285714285715, 51.57142857142857, 58.0, 58.0, 58.0, 67.14285714285714, 74.71428571428571, 91.28571428571429, 116.85714285714286, 144.85714285714286, 144.85714285714286, 144.85714285714286, 245.85714285714286, 305.7142857142857, 381.2857142857143, 472.7142857142857, 570.0, 666.2857142857143, 730.7142857142857, 651.1428571428571, 633.5714285714286, 613.8571428571429, 627.7142857142857, 627.4285714285714, 531.1428571428571, 466.7142857142857, 673.1428571428571, 662.1428571428571, 700.5714285714286, 655.5714285714286, 586.7142857142857, 586.7142857142857, 586.7142857142857, 482.42857142857144, 490.7142857142857, 445.2857142857143, 420.0, 425.7142857142857, 425.7142857142857, 425.7142857142857]\n"
          ]
        }
      ]
    },
    {
      "cell_type": "code",
      "source": [
        "def format_date_axis(ax):\n",
        "  \"\"\" format the dates shown on the x-axis of given axes, ax  \"\"\"\n",
        "  locator = mdates.AutoDateLocator(minticks=10, maxticks=20)\n",
        "  formatter = mdates.ConciseDateFormatter(locator)\n",
        "  ax.xaxis.set_major_locator(locator)\n",
        "  ax.xaxis.set_major_formatter(formatter)\n",
        "\n",
        "fig, ax = plt.subplots()\n",
        "format_date_axis(ax)\n",
        "ax.plot(dates, avg_cases, label='Daily Cases')  # Plot some data on the axes.\n",
        "ax.set_xlabel('Date')  # Add an x-label to the axes.\n",
        "ax.set_ylabel('confirmed casess')  # Add a y-label to the axes.\n",
        "ax.set_title(\"Covid-19 case counts for BC\")  # Add a title to the axes.\n",
        "ax.legend();"
      ],
      "metadata": {
        "id": "PzRa_Mwcbckf",
        "outputId": "e29707a9-ecc5-44f0-cff2-2392ab79dc39",
        "colab": {
          "base_uri": "https://localhost:8080/",
          "height": 295
        }
      },
      "execution_count": null,
      "outputs": [
        {
          "output_type": "display_data",
          "data": {
            "image/png": "[encoded data removed]",
            "text/plain": [
              "<Figure size 432x288 with 1 Axes>"
            ]
          },
          "metadata": {
            "needs_background": "light"
          }
        }
      ]
    }
  ],
  "metadata": {
    "kernelspec": {
      "display_name": "Python 3",
      "language": "python",
      "name": "python3"
    },
    "language_info": {
      "codemirror_mode": {
        "name": "ipython",
        "version": 2
      },
      "file_extension": ".py",
      "mimetype": "text/x-python",
      "name": "python",
      "nbconvert_exporter": "python",
      "pygments_lexer": "ipython2",
      "version": "2.7.6"
    },
    "colab": {
      "name": "Copy of lab1.ipynb",
      "provenance": [],
      "include_colab_link": true
    }
  },
  "nbformat": 4,
  "nbformat_minor": 0
}