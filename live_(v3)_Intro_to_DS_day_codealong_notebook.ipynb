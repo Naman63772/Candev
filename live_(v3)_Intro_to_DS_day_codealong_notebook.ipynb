{
  "nbformat": 4,
  "nbformat_minor": 0,
  "metadata": {
    "colab": {
      "name": "live_(v3)_Intro_to_DS_day_codealong_notebook.ipynb",
      "provenance": [],
      "collapsed_sections": [],
      "include_colab_link": true
    },
    "kernelspec": {
      "display_name": "Python 3",
      "language": "python",
      "name": "python3"
    },
    "language_info": {
      "codemirror_mode": {
        "name": "ipython",
        "version": 3
      },
      "file_extension": ".py",
      "mimetype": "text/x-python",
      "name": "python",
      "nbconvert_exporter": "python",
      "pygments_lexer": "ipython3",
      "version": "3.8.8"
    }
  },
  "cells": [
    {
      "cell_type": "markdown",
      "metadata": {
        "id": "view-in-github",
        "colab_type": "text"
      },
      "source": [
        "<a href=\"https://colab.research.google.com/github/Naman63772/Candev/blob/master/live_(v3)_Intro_to_DS_day_codealong_notebook.ipynb\" target=\"_parent\"><img src=\"https://colab.research.google.com/assets/colab-badge.svg\" alt=\"Open In Colab\"/></a>"
      ]
    },
    {
      "cell_type": "markdown",
      "metadata": {
        "id": "fBKDBcT4nh1u"
      },
      "source": [
        "# <center> **BrainStation Data Science Intro Day** </center>"
      ]
    },
    {
      "cell_type": "markdown",
      "metadata": {
        "id": "ezGtw-g2aszl"
      },
      "source": [
        "## **Session 1: Basic Python & DataFrames**"
      ]
    },
    {
      "cell_type": "markdown",
      "metadata": {
        "id": "m06nep53nh1w"
      },
      "source": [
        "Here we will cover some of the fundamentals of the programming language [Python](https://en.wikipedia.org/wiki/Python_(programming_language)), leading up to working with data. \n",
        "\n",
        "Python can print outputs:"
      ]
    },
    {
      "cell_type": "code",
      "metadata": {
        "colab": {
          "base_uri": "https://localhost:8080/"
        },
        "id": "EOlmO7kcgFFZ",
        "scrolled": true,
        "outputId": "0553cea7-ab5d-4110-aa5d-256b66de46e8"
      },
      "source": [
        "print('hello world!')"
      ],
      "execution_count": 22,
      "outputs": [
        {
          "output_type": "stream",
          "name": "stdout",
          "text": [
            "hello world!\n"
          ]
        }
      ]
    },
    {
      "cell_type": "markdown",
      "metadata": {
        "id": "pAQRGGBynh1y"
      },
      "source": [
        "It can also do basic mathematical operations like a calculator:"
      ]
    },
    {
      "cell_type": "code",
      "metadata": {
        "colab": {
          "base_uri": "https://localhost:8080/"
        },
        "id": "T1P5P-57gGR-",
        "outputId": "07661d42-de44-4113-d479-00902ec1b39b"
      },
      "source": [
        "2+2"
      ],
      "execution_count": 23,
      "outputs": [
        {
          "output_type": "execute_result",
          "data": {
            "text/plain": [
              "4"
            ]
          },
          "metadata": {},
          "execution_count": 23
        }
      ]
    },
    {
      "cell_type": "code",
      "metadata": {
        "colab": {
          "base_uri": "https://localhost:8080/"
        },
        "id": "iVgmxm4jgGa9",
        "outputId": "2d369bd6-ae37-409d-bf42-6b0ddc0940b1"
      },
      "source": [
        "print(2+2)\n",
        "print(2-2)\n",
        "print(2*2)\n",
        "print(2/2)"
      ],
      "execution_count": 24,
      "outputs": [
        {
          "output_type": "stream",
          "name": "stdout",
          "text": [
            "4\n",
            "0\n",
            "4\n",
            "1.0\n"
          ]
        }
      ]
    },
    {
      "cell_type": "markdown",
      "metadata": {
        "id": "OJbbcO9yhP9z"
      },
      "source": [
        "Pieces of data (like `\"hello\"` or `3.14` or `True` or `55`) can be saved in **variables**. This makes it easier to reference them in our code later on:"
      ]
    },
    {
      "cell_type": "code",
      "metadata": {
        "id": "zIcNweQDgG4-"
      },
      "source": [
        "# We make variable assignments with a single equals sign, =\n",
        "x = 55"
      ],
      "execution_count": 25,
      "outputs": []
    },
    {
      "cell_type": "code",
      "metadata": {
        "colab": {
          "base_uri": "https://localhost:8080/"
        },
        "id": "ype3MS4VgG8a",
        "outputId": "ef32f754-893a-4cb7-f48f-593bd3ed5b92"
      },
      "source": [
        "print(x)"
      ],
      "execution_count": 26,
      "outputs": [
        {
          "output_type": "stream",
          "name": "stdout",
          "text": [
            "55\n"
          ]
        }
      ]
    },
    {
      "cell_type": "markdown",
      "source": [
        "We can then operate on or mutate said variables (subject to type constraints):"
      ],
      "metadata": {
        "id": "zcQc_WEBwnx5"
      }
    },
    {
      "cell_type": "code",
      "metadata": {
        "colab": {
          "base_uri": "https://localhost:8080/"
        },
        "id": "CMsWVZZKgHAq",
        "outputId": "e10d9790-7f07-4da1-f670-bccbf1aee0a1"
      },
      "source": [
        "print(x*3)"
      ],
      "execution_count": 27,
      "outputs": [
        {
          "output_type": "stream",
          "name": "stdout",
          "text": [
            "165\n"
          ]
        }
      ]
    },
    {
      "cell_type": "code",
      "metadata": {
        "id": "Rj2r69FkgHDf"
      },
      "source": [
        "y = 'hello'"
      ],
      "execution_count": 28,
      "outputs": []
    },
    {
      "cell_type": "code",
      "metadata": {
        "colab": {
          "base_uri": "https://localhost:8080/"
        },
        "id": "bCTh9EJfgHG1",
        "outputId": "874ce322-654c-4dd1-84b8-522ee8f00aa8"
      },
      "source": [
        "print(y)"
      ],
      "execution_count": 29,
      "outputs": [
        {
          "output_type": "stream",
          "name": "stdout",
          "text": [
            "hello\n"
          ]
        }
      ]
    },
    {
      "cell_type": "code",
      "metadata": {
        "colab": {
          "base_uri": "https://localhost:8080/"
        },
        "id": "Bv3k9ojJh6NS",
        "outputId": "c51e4bca-f8cc-46e5-a413-b2cd968eadd0"
      },
      "source": [
        "print(y*3)"
      ],
      "execution_count": 30,
      "outputs": [
        {
          "output_type": "stream",
          "name": "stdout",
          "text": [
            "hellohellohello\n"
          ]
        }
      ]
    },
    {
      "cell_type": "code",
      "metadata": {
        "colab": {
          "base_uri": "https://localhost:8080/"
        },
        "id": "_hhE5oc7h6Wn",
        "outputId": "3b53a145-a704-4d02-fa02-46155d47a655"
      },
      "source": [
        "print(x, y)"
      ],
      "execution_count": 31,
      "outputs": [
        {
          "output_type": "stream",
          "name": "stdout",
          "text": [
            "55 hello\n"
          ]
        }
      ]
    },
    {
      "cell_type": "markdown",
      "metadata": {
        "id": "f4Io-mf3h6lw"
      },
      "source": [
        "### **Errors**\n",
        "\n",
        "We will regularly encounter errors when we're working in Python, and you shouldn't be afraid of them! They're informative and they help us figure out what might be going wrong in our code."
      ]
    },
    {
      "cell_type": "markdown",
      "metadata": {
        "id": "K_nYNqUTh6rl"
      },
      "source": [
        "### **Lists**\n",
        "\n",
        "Lists are a type of \"container\" in Python (technically, a *data structure* which is an array - a sequence of ordered or unordered values stored in memory). They help us hold more than one data element at a time."
      ]
    },
    {
      "cell_type": "code",
      "metadata": {
        "id": "AUbtYDgTh6uZ"
      },
      "source": [
        "# we create lists by enclosing our data in square brackets, []\n",
        "my_list = [1, 2, 3]"
      ],
      "execution_count": 32,
      "outputs": []
    },
    {
      "cell_type": "code",
      "metadata": {
        "colab": {
          "base_uri": "https://localhost:8080/"
        },
        "id": "TiyReI2oh6xB",
        "outputId": "d714db21-14ed-41b6-89d9-8986daeaace8"
      },
      "source": [
        "print(my_list)"
      ],
      "execution_count": 33,
      "outputs": [
        {
          "output_type": "stream",
          "name": "stdout",
          "text": [
            "[1, 2, 3]\n"
          ]
        }
      ]
    },
    {
      "cell_type": "code",
      "metadata": {
        "colab": {
          "base_uri": "https://localhost:8080/"
        },
        "id": "omNaNgI6h60i",
        "outputId": "ace80f17-127c-4153-c857-b14de8cf96f5"
      },
      "source": [
        "# Lists can hold any type of data\n",
        "another_list = [\"bitcoin\", 188.7, False]\n",
        "\n",
        "print(another_list)"
      ],
      "execution_count": 34,
      "outputs": [
        {
          "output_type": "stream",
          "name": "stdout",
          "text": [
            "['bitcoin', 188.7, False]\n"
          ]
        }
      ]
    },
    {
      "cell_type": "markdown",
      "metadata": {
        "id": "KUqD3QF3h68g"
      },
      "source": [
        "We can access individual items from our lists using square bracket indexing. Python starts its index counts at 0:"
      ]
    },
    {
      "cell_type": "code",
      "metadata": {
        "colab": {
          "base_uri": "https://localhost:8080/",
          "height": 35
        },
        "id": "RZLs8PD-h6_J",
        "outputId": "79f6e0e7-3e5d-40fd-e00d-d75798b37a06"
      },
      "source": [
        "another_list[0]"
      ],
      "execution_count": 35,
      "outputs": [
        {
          "output_type": "execute_result",
          "data": {
            "application/vnd.google.colaboratory.intrinsic+json": {
              "type": "string"
            },
            "text/plain": [
              "'bitcoin'"
            ]
          },
          "metadata": {},
          "execution_count": 35
        }
      ]
    },
    {
      "cell_type": "code",
      "metadata": {
        "colab": {
          "base_uri": "https://localhost:8080/"
        },
        "id": "0ZF05hb3h7Cv",
        "outputId": "c3e320bd-7147-456b-d256-50a737b30229"
      },
      "source": [
        "another_list[1]"
      ],
      "execution_count": 36,
      "outputs": [
        {
          "output_type": "execute_result",
          "data": {
            "text/plain": [
              "188.7"
            ]
          },
          "metadata": {},
          "execution_count": 36
        }
      ]
    },
    {
      "cell_type": "code",
      "metadata": {
        "colab": {
          "base_uri": "https://localhost:8080/"
        },
        "id": "8-aCg_XWh7Eh",
        "outputId": "f8d124f6-d5e6-4902-a363-201f6e743bef"
      },
      "source": [
        "another_list[2]"
      ],
      "execution_count": 37,
      "outputs": [
        {
          "output_type": "execute_result",
          "data": {
            "text/plain": [
              "False"
            ]
          },
          "metadata": {},
          "execution_count": 37
        }
      ]
    },
    {
      "cell_type": "code",
      "source": [
        "_1 = 1"
      ],
      "metadata": {
        "id": "-YFnMQZW62Nw"
      },
      "execution_count": 38,
      "outputs": []
    },
    {
      "cell_type": "markdown",
      "metadata": {
        "id": "y1-q4g4Zh7J5"
      },
      "source": [
        "### **Looping**\n",
        "\n",
        "This is a technique that we can use to access each list item one-at-a-time, in succession. For example, rather than printing out each list item manually like we did above, we could use a loop:"
      ]
    },
    {
      "cell_type": "code",
      "metadata": {
        "colab": {
          "base_uri": "https://localhost:8080/"
        },
        "id": "zbUFbrtKh7MO",
        "outputId": "62ae5004-83b3-4bc4-8afa-87916d6ed6fc"
      },
      "source": [
        "for item in another_list:\n",
        "    print(item)"
      ],
      "execution_count": 39,
      "outputs": [
        {
          "output_type": "stream",
          "name": "stdout",
          "text": [
            "bitcoin\n",
            "188.7\n",
            "False\n"
          ]
        }
      ]
    },
    {
      "cell_type": "code",
      "metadata": {
        "colab": {
          "base_uri": "https://localhost:8080/"
        },
        "id": "lQGO-xMeh7Pa",
        "outputId": "d7e1f326-2df5-4eee-95c6-6b753111b3a2"
      },
      "source": [
        "# Note that the loop variable name we choose is totally up to us.\n",
        "# This is the exact same loop as above\n",
        "for whatever in another_list:\n",
        "    print(whatever)"
      ],
      "execution_count": 40,
      "outputs": [
        {
          "output_type": "stream",
          "name": "stdout",
          "text": [
            "bitcoin\n",
            "188.7\n",
            "False\n"
          ]
        }
      ]
    },
    {
      "cell_type": "markdown",
      "metadata": {
        "id": "oiY_UBVYh7Se"
      },
      "source": [
        "We'll explore two Python packages for working with data. The first is called [**Pandas**](https://pandas.pydata.org/), and gives us the ability to load in, manipulate and analyze tables of data. The second is called [**Seaborn**](https://seaborn.pydata.org/), which is a package dedicated to data visualization.\n",
        "\n",
        "First thing's first, we'll need to load in some data. We can read in data directly with pandas from cloud storage in Google Drive!"
      ]
    },
    {
      "cell_type": "code",
      "metadata": {
        "id": "foU5Fjj-blcd"
      },
      "source": [
        "# Let's import the packages we need to use\n",
        "import pandas as pd"
      ],
      "execution_count": 41,
      "outputs": []
    },
    {
      "cell_type": "code",
      "metadata": {
        "id": "vtqMF9dSxaoP"
      },
      "source": [
        "# Read in the data from Google Drive (or any public url)\n",
        "url='https://drive.google.com/uc?id=1wLuyOzM81IjBSwLflfB54CSx6KxY5NAe'\n",
        "df = pd.read_csv(url)"
      ],
      "execution_count": 42,
      "outputs": []
    },
    {
      "cell_type": "code",
      "metadata": {
        "colab": {
          "base_uri": "https://localhost:8080/",
          "height": 461
        },
        "id": "QEuIqZKwxvg3",
        "outputId": "49e2df4d-3d95-4844-df9d-c898a7db3cb5"
      },
      "source": [
        "# Take a look\n",
        "df.tail()"
      ],
      "execution_count": 43,
      "outputs": [
        {
          "output_type": "execute_result",
          "data": {
            "text/html": [
              "\n",
              "  <div id=\"df-115efc01-269e-4fba-8390-eaeaccbd2079\">\n",
              "    <div class=\"colab-df-container\">\n",
              "      <div>\n",
              "<style scoped>\n",
              "    .dataframe tbody tr th:only-of-type {\n",
              "        vertical-align: middle;\n",
              "    }\n",
              "\n",
              "    .dataframe tbody tr th {\n",
              "        vertical-align: top;\n",
              "    }\n",
              "\n",
              "    .dataframe thead th {\n",
              "        text-align: right;\n",
              "    }\n",
              "</style>\n",
              "<table border=\"1\" class=\"dataframe\">\n",
              "  <thead>\n",
              "    <tr style=\"text-align: right;\">\n",
              "      <th></th>\n",
              "      <th>id</th>\n",
              "      <th>name</th>\n",
              "      <th>popularity</th>\n",
              "      <th>duration_ms</th>\n",
              "      <th>explicit</th>\n",
              "      <th>artists</th>\n",
              "      <th>id_artists</th>\n",
              "      <th>release_date</th>\n",
              "      <th>danceability</th>\n",
              "      <th>energy</th>\n",
              "      <th>key</th>\n",
              "      <th>loudness</th>\n",
              "      <th>mode</th>\n",
              "      <th>speechiness</th>\n",
              "      <th>acousticness</th>\n",
              "      <th>instrumentalness</th>\n",
              "      <th>liveness</th>\n",
              "      <th>valence</th>\n",
              "      <th>tempo</th>\n",
              "      <th>time_signature</th>\n",
              "      <th>main_artist</th>\n",
              "    </tr>\n",
              "  </thead>\n",
              "  <tbody>\n",
              "    <tr>\n",
              "      <th>631</th>\n",
              "      <td>69UbAXVf54kgZVy1U7nJY3</td>\n",
              "      <td>...Baby One More Time - Remastered</td>\n",
              "      <td>34</td>\n",
              "      <td>210605</td>\n",
              "      <td>0</td>\n",
              "      <td>['Britney Spears']</td>\n",
              "      <td>['26dSoYclwsYLMAKD3tpOr4']</td>\n",
              "      <td>2009-11-09</td>\n",
              "      <td>0.752</td>\n",
              "      <td>0.771</td>\n",
              "      <td>0</td>\n",
              "      <td>-4.104</td>\n",
              "      <td>0</td>\n",
              "      <td>0.0326</td>\n",
              "      <td>0.2020</td>\n",
              "      <td>0.000247</td>\n",
              "      <td>0.669</td>\n",
              "      <td>0.896</td>\n",
              "      <td>92.980</td>\n",
              "      <td>4</td>\n",
              "      <td>Britney</td>\n",
              "    </tr>\n",
              "    <tr>\n",
              "      <th>632</th>\n",
              "      <td>4i09E6a5vOsIIHb7wpyftz</td>\n",
              "      <td>Candy Store Rock - Remaster</td>\n",
              "      <td>36</td>\n",
              "      <td>251373</td>\n",
              "      <td>0</td>\n",
              "      <td>['Led Zeppelin']</td>\n",
              "      <td>['36QJpDe2go2KgaRleHCDTp']</td>\n",
              "      <td>1976-03-31</td>\n",
              "      <td>0.570</td>\n",
              "      <td>0.927</td>\n",
              "      <td>0</td>\n",
              "      <td>-8.990</td>\n",
              "      <td>1</td>\n",
              "      <td>0.0398</td>\n",
              "      <td>0.0161</td>\n",
              "      <td>0.000115</td>\n",
              "      <td>0.100</td>\n",
              "      <td>0.789</td>\n",
              "      <td>114.817</td>\n",
              "      <td>4</td>\n",
              "      <td>Zeppelin</td>\n",
              "    </tr>\n",
              "    <tr>\n",
              "      <th>633</th>\n",
              "      <td>69lH8EQMuHWx9f8QKpiddJ</td>\n",
              "      <td>The Rain Song - Remaster</td>\n",
              "      <td>42</td>\n",
              "      <td>459094</td>\n",
              "      <td>0</td>\n",
              "      <td>['Led Zeppelin']</td>\n",
              "      <td>['36QJpDe2go2KgaRleHCDTp']</td>\n",
              "      <td>1973-03-28</td>\n",
              "      <td>0.336</td>\n",
              "      <td>0.318</td>\n",
              "      <td>0</td>\n",
              "      <td>-11.412</td>\n",
              "      <td>1</td>\n",
              "      <td>0.0263</td>\n",
              "      <td>0.3170</td>\n",
              "      <td>0.071600</td>\n",
              "      <td>0.111</td>\n",
              "      <td>0.240</td>\n",
              "      <td>79.660</td>\n",
              "      <td>4</td>\n",
              "      <td>Zeppelin</td>\n",
              "    </tr>\n",
              "    <tr>\n",
              "      <th>634</th>\n",
              "      <td>2hXhzBwIcrfQQUdelpLZXH</td>\n",
              "      <td>For Your Life - 1990 Remaster</td>\n",
              "      <td>49</td>\n",
              "      <td>384107</td>\n",
              "      <td>0</td>\n",
              "      <td>['Led Zeppelin']</td>\n",
              "      <td>['36QJpDe2go2KgaRleHCDTp']</td>\n",
              "      <td>1976-03-31</td>\n",
              "      <td>0.374</td>\n",
              "      <td>0.719</td>\n",
              "      <td>0</td>\n",
              "      <td>-9.336</td>\n",
              "      <td>1</td>\n",
              "      <td>0.1770</td>\n",
              "      <td>0.0141</td>\n",
              "      <td>0.000344</td>\n",
              "      <td>0.132</td>\n",
              "      <td>0.671</td>\n",
              "      <td>184.180</td>\n",
              "      <td>4</td>\n",
              "      <td>Zeppelin</td>\n",
              "    </tr>\n",
              "    <tr>\n",
              "      <th>635</th>\n",
              "      <td>39HPNIdWUse9mLDio9dxwK</td>\n",
              "      <td>The Song Remains the Same - Remaster</td>\n",
              "      <td>37</td>\n",
              "      <td>329094</td>\n",
              "      <td>0</td>\n",
              "      <td>['Led Zeppelin']</td>\n",
              "      <td>['36QJpDe2go2KgaRleHCDTp']</td>\n",
              "      <td>1973-03-28</td>\n",
              "      <td>0.255</td>\n",
              "      <td>0.815</td>\n",
              "      <td>7</td>\n",
              "      <td>-8.197</td>\n",
              "      <td>1</td>\n",
              "      <td>0.0545</td>\n",
              "      <td>0.0747</td>\n",
              "      <td>0.471000</td>\n",
              "      <td>0.227</td>\n",
              "      <td>0.699</td>\n",
              "      <td>144.549</td>\n",
              "      <td>4</td>\n",
              "      <td>Zeppelin</td>\n",
              "    </tr>\n",
              "  </tbody>\n",
              "</table>\n",
              "</div>\n",
              "      <button class=\"colab-df-convert\" onclick=\"convertToInteractive('df-115efc01-269e-4fba-8390-eaeaccbd2079')\"\n",
              "              title=\"Convert this dataframe to an interactive table.\"\n",
              "              style=\"display:none;\">\n",
              "        \n",
              "  <svg xmlns=\"http://www.w3.org/2000/svg\" height=\"24px\"viewBox=\"0 0 24 24\"\n",
              "       width=\"24px\">\n",
              "    <path d=\"M0 0h24v24H0V0z\" fill=\"none\"/>\n",
              "    <path d=\"M18.56 5.44l.94 2.06.94-2.06 2.06-.94-2.06-.94-.94-2.06-.94 2.06-2.06.94zm-11 1L8.5 8.5l.94-2.06 2.06-.94-2.06-.94L8.5 2.5l-.94 2.06-2.06.94zm10 10l.94 2.06.94-2.06 2.06-.94-2.06-.94-.94-2.06-.94 2.06-2.06.94z\"/><path d=\"M17.41 7.96l-1.37-1.37c-.4-.4-.92-.59-1.43-.59-.52 0-1.04.2-1.43.59L10.3 9.45l-7.72 7.72c-.78.78-.78 2.05 0 2.83L4 21.41c.39.39.9.59 1.41.59.51 0 1.02-.2 1.41-.59l7.78-7.78 2.81-2.81c.8-.78.8-2.07 0-2.86zM5.41 20L4 18.59l7.72-7.72 1.47 1.35L5.41 20z\"/>\n",
              "  </svg>\n",
              "      </button>\n",
              "      \n",
              "  <style>\n",
              "    .colab-df-container {\n",
              "      display:flex;\n",
              "      flex-wrap:wrap;\n",
              "      gap: 12px;\n",
              "    }\n",
              "\n",
              "    .colab-df-convert {\n",
              "      background-color: #E8F0FE;\n",
              "      border: none;\n",
              "      border-radius: 50%;\n",
              "      cursor: pointer;\n",
              "      display: none;\n",
              "      fill: #1967D2;\n",
              "      height: 32px;\n",
              "      padding: 0 0 0 0;\n",
              "      width: 32px;\n",
              "    }\n",
              "\n",
              "    .colab-df-convert:hover {\n",
              "      background-color: #E2EBFA;\n",
              "      box-shadow: 0px 1px 2px rgba(60, 64, 67, 0.3), 0px 1px 3px 1px rgba(60, 64, 67, 0.15);\n",
              "      fill: #174EA6;\n",
              "    }\n",
              "\n",
              "    [theme=dark] .colab-df-convert {\n",
              "      background-color: #3B4455;\n",
              "      fill: #D2E3FC;\n",
              "    }\n",
              "\n",
              "    [theme=dark] .colab-df-convert:hover {\n",
              "      background-color: #434B5C;\n",
              "      box-shadow: 0px 1px 3px 1px rgba(0, 0, 0, 0.15);\n",
              "      filter: drop-shadow(0px 1px 2px rgba(0, 0, 0, 0.3));\n",
              "      fill: #FFFFFF;\n",
              "    }\n",
              "  </style>\n",
              "\n",
              "      <script>\n",
              "        const buttonEl =\n",
              "          document.querySelector('#df-115efc01-269e-4fba-8390-eaeaccbd2079 button.colab-df-convert');\n",
              "        buttonEl.style.display =\n",
              "          google.colab.kernel.accessAllowed ? 'block' : 'none';\n",
              "\n",
              "        async function convertToInteractive(key) {\n",
              "          const element = document.querySelector('#df-115efc01-269e-4fba-8390-eaeaccbd2079');\n",
              "          const dataTable =\n",
              "            await google.colab.kernel.invokeFunction('convertToInteractive',\n",
              "                                                     [key], {});\n",
              "          if (!dataTable) return;\n",
              "\n",
              "          const docLinkHtml = 'Like what you see? Visit the ' +\n",
              "            '<a target=\"_blank\" href=https://colab.research.google.com/notebooks/data_table.ipynb>data table notebook</a>'\n",
              "            + ' to learn more about interactive tables.';\n",
              "          element.innerHTML = '';\n",
              "          dataTable['output_type'] = 'display_data';\n",
              "          await google.colab.output.renderOutput(dataTable, element);\n",
              "          const docLink = document.createElement('div');\n",
              "          docLink.innerHTML = docLinkHtml;\n",
              "          element.appendChild(docLink);\n",
              "        }\n",
              "      </script>\n",
              "    </div>\n",
              "  </div>\n",
              "  "
            ],
            "text/plain": [
              "                         id  ... main_artist\n",
              "631  69UbAXVf54kgZVy1U7nJY3  ...     Britney\n",
              "632  4i09E6a5vOsIIHb7wpyftz  ...    Zeppelin\n",
              "633  69lH8EQMuHWx9f8QKpiddJ  ...    Zeppelin\n",
              "634  2hXhzBwIcrfQQUdelpLZXH  ...    Zeppelin\n",
              "635  39HPNIdWUse9mLDio9dxwK  ...    Zeppelin\n",
              "\n",
              "[5 rows x 21 columns]"
            ]
          },
          "metadata": {},
          "execution_count": 43
        }
      ]
    },
    {
      "cell_type": "code",
      "source": [
        "# What does `df.head()` do?\n",
        "?df.head()"
      ],
      "metadata": {
        "id": "ODuwtuc59hE1"
      },
      "execution_count": 44,
      "outputs": []
    },
    {
      "cell_type": "markdown",
      "metadata": {
        "id": "laRUVCjvp6aY"
      },
      "source": [
        "This dataset is collected from Spotify's API: We requested data about songs from any artist whose artist contains `Drake`, `Britney Spears` or `Led Zeppelin`.\n",
        "\n",
        "Spotify's API returns a rich set of data about each song's audio properties. These are the audio qualities they use to capture a song's feel and generate playlists geared to a user's tastes."
      ]
    },
    {
      "cell_type": "markdown",
      "source": [
        "## **Our investigative goal:** \n",
        "## <center> What are the audio attributes that distiguish these three artists from one another? </center>"
      ],
      "metadata": {
        "id": "tjEx85ASx3Xl"
      }
    },
    {
      "cell_type": "markdown",
      "metadata": {
        "id": "PQ3u70D-GcAd"
      },
      "source": [
        "## **Session 2: Exploring data & identifying trends**"
      ]
    },
    {
      "cell_type": "code",
      "metadata": {
        "colab": {
          "base_uri": "https://localhost:8080/",
          "height": 444
        },
        "id": "tZ62B1UqGcAd",
        "outputId": "ff63174a-02ce-4cc4-dfd7-269e1a47f6f3"
      },
      "source": [
        "# Remind ourselves of the dataset\n",
        "df.head()"
      ],
      "execution_count": 45,
      "outputs": [
        {
          "output_type": "execute_result",
          "data": {
            "text/html": [
              "\n",
              "  <div id=\"df-4e2a50cd-e2c4-486d-80d4-073975e04eb0\">\n",
              "    <div class=\"colab-df-container\">\n",
              "      <div>\n",
              "<style scoped>\n",
              "    .dataframe tbody tr th:only-of-type {\n",
              "        vertical-align: middle;\n",
              "    }\n",
              "\n",
              "    .dataframe tbody tr th {\n",
              "        vertical-align: top;\n",
              "    }\n",
              "\n",
              "    .dataframe thead th {\n",
              "        text-align: right;\n",
              "    }\n",
              "</style>\n",
              "<table border=\"1\" class=\"dataframe\">\n",
              "  <thead>\n",
              "    <tr style=\"text-align: right;\">\n",
              "      <th></th>\n",
              "      <th>id</th>\n",
              "      <th>name</th>\n",
              "      <th>popularity</th>\n",
              "      <th>duration_ms</th>\n",
              "      <th>explicit</th>\n",
              "      <th>artists</th>\n",
              "      <th>id_artists</th>\n",
              "      <th>release_date</th>\n",
              "      <th>danceability</th>\n",
              "      <th>energy</th>\n",
              "      <th>key</th>\n",
              "      <th>loudness</th>\n",
              "      <th>mode</th>\n",
              "      <th>speechiness</th>\n",
              "      <th>acousticness</th>\n",
              "      <th>instrumentalness</th>\n",
              "      <th>liveness</th>\n",
              "      <th>valence</th>\n",
              "      <th>tempo</th>\n",
              "      <th>time_signature</th>\n",
              "      <th>main_artist</th>\n",
              "    </tr>\n",
              "  </thead>\n",
              "  <tbody>\n",
              "    <tr>\n",
              "      <th>0</th>\n",
              "      <td>1PWnjvzT5Jhpfnh96DRNDh</td>\n",
              "      <td>Best I Ever Had</td>\n",
              "      <td>51</td>\n",
              "      <td>258800</td>\n",
              "      <td>0</td>\n",
              "      <td>['Drake']</td>\n",
              "      <td>['3TVXtAsR1Inumwj472S9r4']</td>\n",
              "      <td>2009-01-01</td>\n",
              "      <td>0.441</td>\n",
              "      <td>0.904</td>\n",
              "      <td>1</td>\n",
              "      <td>-2.636</td>\n",
              "      <td>1</td>\n",
              "      <td>0.3590</td>\n",
              "      <td>0.102</td>\n",
              "      <td>0.0000</td>\n",
              "      <td>0.1960</td>\n",
              "      <td>0.529</td>\n",
              "      <td>161.740</td>\n",
              "      <td>4</td>\n",
              "      <td>Drake</td>\n",
              "    </tr>\n",
              "    <tr>\n",
              "      <th>1</th>\n",
              "      <td>32nmTtZNtJq2LQQJlYc96h</td>\n",
              "      <td>My Only Wish (This Year)</td>\n",
              "      <td>4</td>\n",
              "      <td>254720</td>\n",
              "      <td>0</td>\n",
              "      <td>['Britney Spears']</td>\n",
              "      <td>['26dSoYclwsYLMAKD3tpOr4']</td>\n",
              "      <td>2007-11-30</td>\n",
              "      <td>0.667</td>\n",
              "      <td>0.715</td>\n",
              "      <td>0</td>\n",
              "      <td>-8.017</td>\n",
              "      <td>1</td>\n",
              "      <td>0.0269</td>\n",
              "      <td>0.184</td>\n",
              "      <td>0.0000</td>\n",
              "      <td>0.1860</td>\n",
              "      <td>0.678</td>\n",
              "      <td>147.064</td>\n",
              "      <td>4</td>\n",
              "      <td>Britney</td>\n",
              "    </tr>\n",
              "    <tr>\n",
              "      <th>2</th>\n",
              "      <td>6nx1JCehhu4N9j5qNALyTu</td>\n",
              "      <td>The Crunge - Remaster</td>\n",
              "      <td>34</td>\n",
              "      <td>197704</td>\n",
              "      <td>0</td>\n",
              "      <td>['Led Zeppelin']</td>\n",
              "      <td>['36QJpDe2go2KgaRleHCDTp']</td>\n",
              "      <td>1973-03-28</td>\n",
              "      <td>0.531</td>\n",
              "      <td>0.798</td>\n",
              "      <td>2</td>\n",
              "      <td>-8.514</td>\n",
              "      <td>1</td>\n",
              "      <td>0.1480</td>\n",
              "      <td>0.132</td>\n",
              "      <td>0.0000</td>\n",
              "      <td>0.3560</td>\n",
              "      <td>0.852</td>\n",
              "      <td>112.609</td>\n",
              "      <td>5</td>\n",
              "      <td>Zeppelin</td>\n",
              "    </tr>\n",
              "    <tr>\n",
              "      <th>3</th>\n",
              "      <td>4pW4DF1119GLHiuWE7Jcb4</td>\n",
              "      <td>Thank You - Remaster</td>\n",
              "      <td>48</td>\n",
              "      <td>289485</td>\n",
              "      <td>0</td>\n",
              "      <td>['Led Zeppelin']</td>\n",
              "      <td>['36QJpDe2go2KgaRleHCDTp']</td>\n",
              "      <td>1969-10-22</td>\n",
              "      <td>0.292</td>\n",
              "      <td>0.306</td>\n",
              "      <td>7</td>\n",
              "      <td>-13.158</td>\n",
              "      <td>1</td>\n",
              "      <td>0.0547</td>\n",
              "      <td>0.184</td>\n",
              "      <td>0.0046</td>\n",
              "      <td>0.1440</td>\n",
              "      <td>0.131</td>\n",
              "      <td>79.406</td>\n",
              "      <td>4</td>\n",
              "      <td>Zeppelin</td>\n",
              "    </tr>\n",
              "    <tr>\n",
              "      <th>4</th>\n",
              "      <td>1pYKzfOlpHWtVUiEIu4Vn7</td>\n",
              "      <td>What's My Name?</td>\n",
              "      <td>53</td>\n",
              "      <td>263173</td>\n",
              "      <td>0</td>\n",
              "      <td>['Rihanna', 'Drake']</td>\n",
              "      <td>['5pKCCKE2ajJHZ9KAiaK11H', '3TVXtAsR1Inumwj472...</td>\n",
              "      <td>2010-11-15</td>\n",
              "      <td>0.695</td>\n",
              "      <td>0.782</td>\n",
              "      <td>2</td>\n",
              "      <td>-2.967</td>\n",
              "      <td>1</td>\n",
              "      <td>0.0629</td>\n",
              "      <td>0.223</td>\n",
              "      <td>0.0000</td>\n",
              "      <td>0.0773</td>\n",
              "      <td>0.595</td>\n",
              "      <td>99.992</td>\n",
              "      <td>4</td>\n",
              "      <td>Drake</td>\n",
              "    </tr>\n",
              "  </tbody>\n",
              "</table>\n",
              "</div>\n",
              "      <button class=\"colab-df-convert\" onclick=\"convertToInteractive('df-4e2a50cd-e2c4-486d-80d4-073975e04eb0')\"\n",
              "              title=\"Convert this dataframe to an interactive table.\"\n",
              "              style=\"display:none;\">\n",
              "        \n",
              "  <svg xmlns=\"http://www.w3.org/2000/svg\" height=\"24px\"viewBox=\"0 0 24 24\"\n",
              "       width=\"24px\">\n",
              "    <path d=\"M0 0h24v24H0V0z\" fill=\"none\"/>\n",
              "    <path d=\"M18.56 5.44l.94 2.06.94-2.06 2.06-.94-2.06-.94-.94-2.06-.94 2.06-2.06.94zm-11 1L8.5 8.5l.94-2.06 2.06-.94-2.06-.94L8.5 2.5l-.94 2.06-2.06.94zm10 10l.94 2.06.94-2.06 2.06-.94-2.06-.94-.94-2.06-.94 2.06-2.06.94z\"/><path d=\"M17.41 7.96l-1.37-1.37c-.4-.4-.92-.59-1.43-.59-.52 0-1.04.2-1.43.59L10.3 9.45l-7.72 7.72c-.78.78-.78 2.05 0 2.83L4 21.41c.39.39.9.59 1.41.59.51 0 1.02-.2 1.41-.59l7.78-7.78 2.81-2.81c.8-.78.8-2.07 0-2.86zM5.41 20L4 18.59l7.72-7.72 1.47 1.35L5.41 20z\"/>\n",
              "  </svg>\n",
              "      </button>\n",
              "      \n",
              "  <style>\n",
              "    .colab-df-container {\n",
              "      display:flex;\n",
              "      flex-wrap:wrap;\n",
              "      gap: 12px;\n",
              "    }\n",
              "\n",
              "    .colab-df-convert {\n",
              "      background-color: #E8F0FE;\n",
              "      border: none;\n",
              "      border-radius: 50%;\n",
              "      cursor: pointer;\n",
              "      display: none;\n",
              "      fill: #1967D2;\n",
              "      height: 32px;\n",
              "      padding: 0 0 0 0;\n",
              "      width: 32px;\n",
              "    }\n",
              "\n",
              "    .colab-df-convert:hover {\n",
              "      background-color: #E2EBFA;\n",
              "      box-shadow: 0px 1px 2px rgba(60, 64, 67, 0.3), 0px 1px 3px 1px rgba(60, 64, 67, 0.15);\n",
              "      fill: #174EA6;\n",
              "    }\n",
              "\n",
              "    [theme=dark] .colab-df-convert {\n",
              "      background-color: #3B4455;\n",
              "      fill: #D2E3FC;\n",
              "    }\n",
              "\n",
              "    [theme=dark] .colab-df-convert:hover {\n",
              "      background-color: #434B5C;\n",
              "      box-shadow: 0px 1px 3px 1px rgba(0, 0, 0, 0.15);\n",
              "      filter: drop-shadow(0px 1px 2px rgba(0, 0, 0, 0.3));\n",
              "      fill: #FFFFFF;\n",
              "    }\n",
              "  </style>\n",
              "\n",
              "      <script>\n",
              "        const buttonEl =\n",
              "          document.querySelector('#df-4e2a50cd-e2c4-486d-80d4-073975e04eb0 button.colab-df-convert');\n",
              "        buttonEl.style.display =\n",
              "          google.colab.kernel.accessAllowed ? 'block' : 'none';\n",
              "\n",
              "        async function convertToInteractive(key) {\n",
              "          const element = document.querySelector('#df-4e2a50cd-e2c4-486d-80d4-073975e04eb0');\n",
              "          const dataTable =\n",
              "            await google.colab.kernel.invokeFunction('convertToInteractive',\n",
              "                                                     [key], {});\n",
              "          if (!dataTable) return;\n",
              "\n",
              "          const docLinkHtml = 'Like what you see? Visit the ' +\n",
              "            '<a target=\"_blank\" href=https://colab.research.google.com/notebooks/data_table.ipynb>data table notebook</a>'\n",
              "            + ' to learn more about interactive tables.';\n",
              "          element.innerHTML = '';\n",
              "          dataTable['output_type'] = 'display_data';\n",
              "          await google.colab.output.renderOutput(dataTable, element);\n",
              "          const docLink = document.createElement('div');\n",
              "          docLink.innerHTML = docLinkHtml;\n",
              "          element.appendChild(docLink);\n",
              "        }\n",
              "      </script>\n",
              "    </div>\n",
              "  </div>\n",
              "  "
            ],
            "text/plain": [
              "                       id                      name  ...  time_signature  main_artist\n",
              "0  1PWnjvzT5Jhpfnh96DRNDh           Best I Ever Had  ...               4        Drake\n",
              "1  32nmTtZNtJq2LQQJlYc96h  My Only Wish (This Year)  ...               4      Britney\n",
              "2  6nx1JCehhu4N9j5qNALyTu     The Crunge - Remaster  ...               5     Zeppelin\n",
              "3  4pW4DF1119GLHiuWE7Jcb4      Thank You - Remaster  ...               4     Zeppelin\n",
              "4  1pYKzfOlpHWtVUiEIu4Vn7           What's My Name?  ...               4        Drake\n",
              "\n",
              "[5 rows x 21 columns]"
            ]
          },
          "metadata": {},
          "execution_count": 45
        }
      ]
    },
    {
      "cell_type": "code",
      "metadata": {
        "colab": {
          "base_uri": "https://localhost:8080/"
        },
        "id": "OcP38-hGv52-",
        "outputId": "26f9364c-33f6-46b1-ff9d-30e1a4d41c75"
      },
      "source": [
        "# How many rows and columns?\n",
        "df.shape"
      ],
      "execution_count": 46,
      "outputs": [
        {
          "output_type": "execute_result",
          "data": {
            "text/plain": [
              "(636, 21)"
            ]
          },
          "metadata": {},
          "execution_count": 46
        }
      ]
    },
    {
      "cell_type": "code",
      "metadata": {
        "colab": {
          "base_uri": "https://localhost:8080/"
        },
        "id": "S6vfXpkEbmDB",
        "outputId": "c6b0f9a2-d607-452a-b4d0-3b4e365a199c"
      },
      "source": [
        "df.info()"
      ],
      "execution_count": 47,
      "outputs": [
        {
          "output_type": "stream",
          "name": "stdout",
          "text": [
            "<class 'pandas.core.frame.DataFrame'>\n",
            "RangeIndex: 636 entries, 0 to 635\n",
            "Data columns (total 21 columns):\n",
            " #   Column            Non-Null Count  Dtype  \n",
            "---  ------            --------------  -----  \n",
            " 0   id                636 non-null    object \n",
            " 1   name              636 non-null    object \n",
            " 2   popularity        636 non-null    int64  \n",
            " 3   duration_ms       636 non-null    int64  \n",
            " 4   explicit          636 non-null    int64  \n",
            " 5   artists           636 non-null    object \n",
            " 6   id_artists        636 non-null    object \n",
            " 7   release_date      636 non-null    object \n",
            " 8   danceability      636 non-null    float64\n",
            " 9   energy            636 non-null    float64\n",
            " 10  key               636 non-null    int64  \n",
            " 11  loudness          636 non-null    float64\n",
            " 12  mode              636 non-null    int64  \n",
            " 13  speechiness       636 non-null    float64\n",
            " 14  acousticness      636 non-null    float64\n",
            " 15  instrumentalness  636 non-null    float64\n",
            " 16  liveness          636 non-null    float64\n",
            " 17  valence           636 non-null    float64\n",
            " 18  tempo             636 non-null    float64\n",
            " 19  time_signature    636 non-null    int64  \n",
            " 20  main_artist       636 non-null    object \n",
            "dtypes: float64(9), int64(6), object(6)\n",
            "memory usage: 104.5+ KB\n"
          ]
        }
      ]
    },
    {
      "cell_type": "markdown",
      "metadata": {
        "id": "sQCkviOzrAIO"
      },
      "source": [
        "Looks like we have a lot of numerical attributes. Let's get a feel for them."
      ]
    },
    {
      "cell_type": "code",
      "metadata": {
        "colab": {
          "base_uri": "https://localhost:8080/",
          "height": 364
        },
        "id": "oGnhKlEEbmGv",
        "outputId": "336cbd33-0a23-450e-c053-7d3371b3606f"
      },
      "source": [
        "df.describe()"
      ],
      "execution_count": 48,
      "outputs": [
        {
          "output_type": "execute_result",
          "data": {
            "text/html": [
              "\n",
              "  <div id=\"df-3dbcd928-0180-4533-8605-5fd919730a44\">\n",
              "    <div class=\"colab-df-container\">\n",
              "      <div>\n",
              "<style scoped>\n",
              "    .dataframe tbody tr th:only-of-type {\n",
              "        vertical-align: middle;\n",
              "    }\n",
              "\n",
              "    .dataframe tbody tr th {\n",
              "        vertical-align: top;\n",
              "    }\n",
              "\n",
              "    .dataframe thead th {\n",
              "        text-align: right;\n",
              "    }\n",
              "</style>\n",
              "<table border=\"1\" class=\"dataframe\">\n",
              "  <thead>\n",
              "    <tr style=\"text-align: right;\">\n",
              "      <th></th>\n",
              "      <th>popularity</th>\n",
              "      <th>duration_ms</th>\n",
              "      <th>explicit</th>\n",
              "      <th>danceability</th>\n",
              "      <th>energy</th>\n",
              "      <th>key</th>\n",
              "      <th>loudness</th>\n",
              "      <th>mode</th>\n",
              "      <th>speechiness</th>\n",
              "      <th>acousticness</th>\n",
              "      <th>instrumentalness</th>\n",
              "      <th>liveness</th>\n",
              "      <th>valence</th>\n",
              "      <th>tempo</th>\n",
              "      <th>time_signature</th>\n",
              "    </tr>\n",
              "  </thead>\n",
              "  <tbody>\n",
              "    <tr>\n",
              "      <th>count</th>\n",
              "      <td>636.00000</td>\n",
              "      <td>6.360000e+02</td>\n",
              "      <td>636.000000</td>\n",
              "      <td>636.000000</td>\n",
              "      <td>636.000000</td>\n",
              "      <td>636.000000</td>\n",
              "      <td>636.000000</td>\n",
              "      <td>636.000000</td>\n",
              "      <td>636.000000</td>\n",
              "      <td>636.000000</td>\n",
              "      <td>636.000000</td>\n",
              "      <td>636.000000</td>\n",
              "      <td>636.000000</td>\n",
              "      <td>636.000000</td>\n",
              "      <td>636.000000</td>\n",
              "    </tr>\n",
              "    <tr>\n",
              "      <th>mean</th>\n",
              "      <td>51.97327</td>\n",
              "      <td>2.799651e+05</td>\n",
              "      <td>0.375786</td>\n",
              "      <td>0.556667</td>\n",
              "      <td>0.644586</td>\n",
              "      <td>4.687107</td>\n",
              "      <td>-8.618330</td>\n",
              "      <td>0.691824</td>\n",
              "      <td>0.129658</td>\n",
              "      <td>0.203935</td>\n",
              "      <td>0.072349</td>\n",
              "      <td>0.210039</td>\n",
              "      <td>0.472629</td>\n",
              "      <td>119.558011</td>\n",
              "      <td>3.926101</td>\n",
              "    </tr>\n",
              "    <tr>\n",
              "      <th>std</th>\n",
              "      <td>17.36802</td>\n",
              "      <td>1.146586e+05</td>\n",
              "      <td>0.484706</td>\n",
              "      <td>0.183620</td>\n",
              "      <td>0.198221</td>\n",
              "      <td>3.530460</td>\n",
              "      <td>3.164313</td>\n",
              "      <td>0.462103</td>\n",
              "      <td>0.128858</td>\n",
              "      <td>0.232138</td>\n",
              "      <td>0.201934</td>\n",
              "      <td>0.181720</td>\n",
              "      <td>0.237876</td>\n",
              "      <td>29.509409</td>\n",
              "      <td>0.411501</td>\n",
              "    </tr>\n",
              "    <tr>\n",
              "      <th>min</th>\n",
              "      <td>0.00000</td>\n",
              "      <td>9.837300e+04</td>\n",
              "      <td>0.000000</td>\n",
              "      <td>0.177000</td>\n",
              "      <td>0.172000</td>\n",
              "      <td>0.000000</td>\n",
              "      <td>-18.524000</td>\n",
              "      <td>0.000000</td>\n",
              "      <td>0.024500</td>\n",
              "      <td>0.000052</td>\n",
              "      <td>0.000000</td>\n",
              "      <td>0.028600</td>\n",
              "      <td>0.037100</td>\n",
              "      <td>65.041000</td>\n",
              "      <td>1.000000</td>\n",
              "    </tr>\n",
              "    <tr>\n",
              "      <th>25%</th>\n",
              "      <td>40.00000</td>\n",
              "      <td>2.163600e+05</td>\n",
              "      <td>0.000000</td>\n",
              "      <td>0.405500</td>\n",
              "      <td>0.487750</td>\n",
              "      <td>2.000000</td>\n",
              "      <td>-10.384250</td>\n",
              "      <td>0.000000</td>\n",
              "      <td>0.043650</td>\n",
              "      <td>0.031850</td>\n",
              "      <td>0.000000</td>\n",
              "      <td>0.098650</td>\n",
              "      <td>0.293500</td>\n",
              "      <td>96.131000</td>\n",
              "      <td>4.000000</td>\n",
              "    </tr>\n",
              "    <tr>\n",
              "      <th>50%</th>\n",
              "      <td>53.00000</td>\n",
              "      <td>2.552265e+05</td>\n",
              "      <td>0.000000</td>\n",
              "      <td>0.545000</td>\n",
              "      <td>0.661000</td>\n",
              "      <td>4.000000</td>\n",
              "      <td>-8.435000</td>\n",
              "      <td>1.000000</td>\n",
              "      <td>0.066150</td>\n",
              "      <td>0.103000</td>\n",
              "      <td>0.000085</td>\n",
              "      <td>0.138000</td>\n",
              "      <td>0.448000</td>\n",
              "      <td>113.879500</td>\n",
              "      <td>4.000000</td>\n",
              "    </tr>\n",
              "    <tr>\n",
              "      <th>75%</th>\n",
              "      <td>64.00000</td>\n",
              "      <td>3.113078e+05</td>\n",
              "      <td>1.000000</td>\n",
              "      <td>0.704000</td>\n",
              "      <td>0.824000</td>\n",
              "      <td>8.000000</td>\n",
              "      <td>-6.387500</td>\n",
              "      <td>1.000000</td>\n",
              "      <td>0.170000</td>\n",
              "      <td>0.300000</td>\n",
              "      <td>0.011900</td>\n",
              "      <td>0.252000</td>\n",
              "      <td>0.662000</td>\n",
              "      <td>141.657500</td>\n",
              "      <td>4.000000</td>\n",
              "    </tr>\n",
              "    <tr>\n",
              "      <th>max</th>\n",
              "      <td>91.00000</td>\n",
              "      <td>1.758307e+06</td>\n",
              "      <td>1.000000</td>\n",
              "      <td>0.963000</td>\n",
              "      <td>0.979000</td>\n",
              "      <td>11.000000</td>\n",
              "      <td>-1.304000</td>\n",
              "      <td>1.000000</td>\n",
              "      <td>0.730000</td>\n",
              "      <td>0.970000</td>\n",
              "      <td>0.949000</td>\n",
              "      <td>0.967000</td>\n",
              "      <td>0.976000</td>\n",
              "      <td>205.470000</td>\n",
              "      <td>5.000000</td>\n",
              "    </tr>\n",
              "  </tbody>\n",
              "</table>\n",
              "</div>\n",
              "      <button class=\"colab-df-convert\" onclick=\"convertToInteractive('df-3dbcd928-0180-4533-8605-5fd919730a44')\"\n",
              "              title=\"Convert this dataframe to an interactive table.\"\n",
              "              style=\"display:none;\">\n",
              "        \n",
              "  <svg xmlns=\"http://www.w3.org/2000/svg\" height=\"24px\"viewBox=\"0 0 24 24\"\n",
              "       width=\"24px\">\n",
              "    <path d=\"M0 0h24v24H0V0z\" fill=\"none\"/>\n",
              "    <path d=\"M18.56 5.44l.94 2.06.94-2.06 2.06-.94-2.06-.94-.94-2.06-.94 2.06-2.06.94zm-11 1L8.5 8.5l.94-2.06 2.06-.94-2.06-.94L8.5 2.5l-.94 2.06-2.06.94zm10 10l.94 2.06.94-2.06 2.06-.94-2.06-.94-.94-2.06-.94 2.06-2.06.94z\"/><path d=\"M17.41 7.96l-1.37-1.37c-.4-.4-.92-.59-1.43-.59-.52 0-1.04.2-1.43.59L10.3 9.45l-7.72 7.72c-.78.78-.78 2.05 0 2.83L4 21.41c.39.39.9.59 1.41.59.51 0 1.02-.2 1.41-.59l7.78-7.78 2.81-2.81c.8-.78.8-2.07 0-2.86zM5.41 20L4 18.59l7.72-7.72 1.47 1.35L5.41 20z\"/>\n",
              "  </svg>\n",
              "      </button>\n",
              "      \n",
              "  <style>\n",
              "    .colab-df-container {\n",
              "      display:flex;\n",
              "      flex-wrap:wrap;\n",
              "      gap: 12px;\n",
              "    }\n",
              "\n",
              "    .colab-df-convert {\n",
              "      background-color: #E8F0FE;\n",
              "      border: none;\n",
              "      border-radius: 50%;\n",
              "      cursor: pointer;\n",
              "      display: none;\n",
              "      fill: #1967D2;\n",
              "      height: 32px;\n",
              "      padding: 0 0 0 0;\n",
              "      width: 32px;\n",
              "    }\n",
              "\n",
              "    .colab-df-convert:hover {\n",
              "      background-color: #E2EBFA;\n",
              "      box-shadow: 0px 1px 2px rgba(60, 64, 67, 0.3), 0px 1px 3px 1px rgba(60, 64, 67, 0.15);\n",
              "      fill: #174EA6;\n",
              "    }\n",
              "\n",
              "    [theme=dark] .colab-df-convert {\n",
              "      background-color: #3B4455;\n",
              "      fill: #D2E3FC;\n",
              "    }\n",
              "\n",
              "    [theme=dark] .colab-df-convert:hover {\n",
              "      background-color: #434B5C;\n",
              "      box-shadow: 0px 1px 3px 1px rgba(0, 0, 0, 0.15);\n",
              "      filter: drop-shadow(0px 1px 2px rgba(0, 0, 0, 0.3));\n",
              "      fill: #FFFFFF;\n",
              "    }\n",
              "  </style>\n",
              "\n",
              "      <script>\n",
              "        const buttonEl =\n",
              "          document.querySelector('#df-3dbcd928-0180-4533-8605-5fd919730a44 button.colab-df-convert');\n",
              "        buttonEl.style.display =\n",
              "          google.colab.kernel.accessAllowed ? 'block' : 'none';\n",
              "\n",
              "        async function convertToInteractive(key) {\n",
              "          const element = document.querySelector('#df-3dbcd928-0180-4533-8605-5fd919730a44');\n",
              "          const dataTable =\n",
              "            await google.colab.kernel.invokeFunction('convertToInteractive',\n",
              "                                                     [key], {});\n",
              "          if (!dataTable) return;\n",
              "\n",
              "          const docLinkHtml = 'Like what you see? Visit the ' +\n",
              "            '<a target=\"_blank\" href=https://colab.research.google.com/notebooks/data_table.ipynb>data table notebook</a>'\n",
              "            + ' to learn more about interactive tables.';\n",
              "          element.innerHTML = '';\n",
              "          dataTable['output_type'] = 'display_data';\n",
              "          await google.colab.output.renderOutput(dataTable, element);\n",
              "          const docLink = document.createElement('div');\n",
              "          docLink.innerHTML = docLinkHtml;\n",
              "          element.appendChild(docLink);\n",
              "        }\n",
              "      </script>\n",
              "    </div>\n",
              "  </div>\n",
              "  "
            ],
            "text/plain": [
              "       popularity   duration_ms  ...       tempo  time_signature\n",
              "count   636.00000  6.360000e+02  ...  636.000000      636.000000\n",
              "mean     51.97327  2.799651e+05  ...  119.558011        3.926101\n",
              "std      17.36802  1.146586e+05  ...   29.509409        0.411501\n",
              "min       0.00000  9.837300e+04  ...   65.041000        1.000000\n",
              "25%      40.00000  2.163600e+05  ...   96.131000        4.000000\n",
              "50%      53.00000  2.552265e+05  ...  113.879500        4.000000\n",
              "75%      64.00000  3.113078e+05  ...  141.657500        4.000000\n",
              "max      91.00000  1.758307e+06  ...  205.470000        5.000000\n",
              "\n",
              "[8 rows x 15 columns]"
            ]
          },
          "metadata": {},
          "execution_count": 48
        }
      ]
    },
    {
      "cell_type": "markdown",
      "metadata": {
        "id": "pnY7suX9bmNA"
      },
      "source": [
        "Let's explore some of these columns. We'll check the top songs across a few of them."
      ]
    },
    {
      "cell_type": "code",
      "metadata": {
        "colab": {
          "base_uri": "https://localhost:8080/",
          "height": 530
        },
        "id": "LilpEgAi9f_1",
        "outputId": "658b41ab-956f-4c3f-cb9b-72c04640d455"
      },
      "source": [
        "df.sort_values(by='popularity', ascending=False).head()"
      ],
      "execution_count": 49,
      "outputs": [
        {
          "output_type": "execute_result",
          "data": {
            "text/html": [
              "\n",
              "  <div id=\"df-965a39cd-6942-4c2d-b5cb-0ed3490f4a69\">\n",
              "    <div class=\"colab-df-container\">\n",
              "      <div>\n",
              "<style scoped>\n",
              "    .dataframe tbody tr th:only-of-type {\n",
              "        vertical-align: middle;\n",
              "    }\n",
              "\n",
              "    .dataframe tbody tr th {\n",
              "        vertical-align: top;\n",
              "    }\n",
              "\n",
              "    .dataframe thead th {\n",
              "        text-align: right;\n",
              "    }\n",
              "</style>\n",
              "<table border=\"1\" class=\"dataframe\">\n",
              "  <thead>\n",
              "    <tr style=\"text-align: right;\">\n",
              "      <th></th>\n",
              "      <th>id</th>\n",
              "      <th>name</th>\n",
              "      <th>popularity</th>\n",
              "      <th>duration_ms</th>\n",
              "      <th>explicit</th>\n",
              "      <th>artists</th>\n",
              "      <th>id_artists</th>\n",
              "      <th>release_date</th>\n",
              "      <th>danceability</th>\n",
              "      <th>energy</th>\n",
              "      <th>key</th>\n",
              "      <th>loudness</th>\n",
              "      <th>mode</th>\n",
              "      <th>speechiness</th>\n",
              "      <th>acousticness</th>\n",
              "      <th>instrumentalness</th>\n",
              "      <th>liveness</th>\n",
              "      <th>valence</th>\n",
              "      <th>tempo</th>\n",
              "      <th>time_signature</th>\n",
              "      <th>main_artist</th>\n",
              "    </tr>\n",
              "  </thead>\n",
              "  <tbody>\n",
              "    <tr>\n",
              "      <th>619</th>\n",
              "      <td>3aQem4jVGdhtg116TmJnHz</td>\n",
              "      <td>What’s Next</td>\n",
              "      <td>91</td>\n",
              "      <td>178154</td>\n",
              "      <td>1</td>\n",
              "      <td>['Drake']</td>\n",
              "      <td>['3TVXtAsR1Inumwj472S9r4']</td>\n",
              "      <td>2021-03-05</td>\n",
              "      <td>0.781</td>\n",
              "      <td>0.594</td>\n",
              "      <td>0</td>\n",
              "      <td>-6.959</td>\n",
              "      <td>0</td>\n",
              "      <td>0.0485</td>\n",
              "      <td>0.0136</td>\n",
              "      <td>0.000000</td>\n",
              "      <td>0.162</td>\n",
              "      <td>0.0628</td>\n",
              "      <td>129.895</td>\n",
              "      <td>4</td>\n",
              "      <td>Drake</td>\n",
              "    </tr>\n",
              "    <tr>\n",
              "      <th>501</th>\n",
              "      <td>65OVbaJR5O1RmwOQx0875b</td>\n",
              "      <td>Wants and Needs (feat. Lil Baby)</td>\n",
              "      <td>89</td>\n",
              "      <td>192956</td>\n",
              "      <td>1</td>\n",
              "      <td>['Drake', 'Lil Baby']</td>\n",
              "      <td>['3TVXtAsR1Inumwj472S9r4', '5f7VJjfbwm532GiveG...</td>\n",
              "      <td>2021-03-05</td>\n",
              "      <td>0.578</td>\n",
              "      <td>0.449</td>\n",
              "      <td>1</td>\n",
              "      <td>-6.349</td>\n",
              "      <td>1</td>\n",
              "      <td>0.2860</td>\n",
              "      <td>0.0618</td>\n",
              "      <td>0.000002</td>\n",
              "      <td>0.119</td>\n",
              "      <td>0.1000</td>\n",
              "      <td>136.006</td>\n",
              "      <td>4</td>\n",
              "      <td>Drake</td>\n",
              "    </tr>\n",
              "    <tr>\n",
              "      <th>454</th>\n",
              "      <td>2SAqBLGA283SUiwJ3xOUVI</td>\n",
              "      <td>Laugh Now Cry Later (feat. Lil Durk)</td>\n",
              "      <td>88</td>\n",
              "      <td>261493</td>\n",
              "      <td>1</td>\n",
              "      <td>['Drake', 'Lil Durk']</td>\n",
              "      <td>['3TVXtAsR1Inumwj472S9r4', '3hcs9uc56yIGFCSy9l...</td>\n",
              "      <td>2020-08-14</td>\n",
              "      <td>0.761</td>\n",
              "      <td>0.518</td>\n",
              "      <td>0</td>\n",
              "      <td>-8.871</td>\n",
              "      <td>1</td>\n",
              "      <td>0.1340</td>\n",
              "      <td>0.2440</td>\n",
              "      <td>0.000035</td>\n",
              "      <td>0.107</td>\n",
              "      <td>0.5220</td>\n",
              "      <td>133.976</td>\n",
              "      <td>4</td>\n",
              "      <td>Drake</td>\n",
              "    </tr>\n",
              "    <tr>\n",
              "      <th>398</th>\n",
              "      <td>6EDO9iiTtwNv6waLwa1UUq</td>\n",
              "      <td>POPSTAR (feat. Drake)</td>\n",
              "      <td>86</td>\n",
              "      <td>200221</td>\n",
              "      <td>1</td>\n",
              "      <td>['DJ Khaled', 'Drake']</td>\n",
              "      <td>['0QHgL1lAIqAw0HtD7YldmP', '3TVXtAsR1Inumwj472...</td>\n",
              "      <td>2020-07-17</td>\n",
              "      <td>0.800</td>\n",
              "      <td>0.560</td>\n",
              "      <td>5</td>\n",
              "      <td>-4.818</td>\n",
              "      <td>0</td>\n",
              "      <td>0.2610</td>\n",
              "      <td>0.0570</td>\n",
              "      <td>0.000000</td>\n",
              "      <td>0.134</td>\n",
              "      <td>0.4500</td>\n",
              "      <td>163.071</td>\n",
              "      <td>4</td>\n",
              "      <td>Drake</td>\n",
              "    </tr>\n",
              "    <tr>\n",
              "      <th>254</th>\n",
              "      <td>4FRW5Nza1Ym91BGV4nFWXI</td>\n",
              "      <td>Lemon Pepper Freestyle (feat. Rick Ross)</td>\n",
              "      <td>86</td>\n",
              "      <td>383037</td>\n",
              "      <td>1</td>\n",
              "      <td>['Drake', 'Rick Ross']</td>\n",
              "      <td>['3TVXtAsR1Inumwj472S9r4', '1sBkRIssrMs1AbVkOJ...</td>\n",
              "      <td>2021-03-05</td>\n",
              "      <td>0.770</td>\n",
              "      <td>0.637</td>\n",
              "      <td>1</td>\n",
              "      <td>-5.530</td>\n",
              "      <td>1</td>\n",
              "      <td>0.3450</td>\n",
              "      <td>0.1030</td>\n",
              "      <td>0.000000</td>\n",
              "      <td>0.171</td>\n",
              "      <td>0.4310</td>\n",
              "      <td>94.966</td>\n",
              "      <td>4</td>\n",
              "      <td>Drake</td>\n",
              "    </tr>\n",
              "  </tbody>\n",
              "</table>\n",
              "</div>\n",
              "      <button class=\"colab-df-convert\" onclick=\"convertToInteractive('df-965a39cd-6942-4c2d-b5cb-0ed3490f4a69')\"\n",
              "              title=\"Convert this dataframe to an interactive table.\"\n",
              "              style=\"display:none;\">\n",
              "        \n",
              "  <svg xmlns=\"http://www.w3.org/2000/svg\" height=\"24px\"viewBox=\"0 0 24 24\"\n",
              "       width=\"24px\">\n",
              "    <path d=\"M0 0h24v24H0V0z\" fill=\"none\"/>\n",
              "    <path d=\"M18.56 5.44l.94 2.06.94-2.06 2.06-.94-2.06-.94-.94-2.06-.94 2.06-2.06.94zm-11 1L8.5 8.5l.94-2.06 2.06-.94-2.06-.94L8.5 2.5l-.94 2.06-2.06.94zm10 10l.94 2.06.94-2.06 2.06-.94-2.06-.94-.94-2.06-.94 2.06-2.06.94z\"/><path d=\"M17.41 7.96l-1.37-1.37c-.4-.4-.92-.59-1.43-.59-.52 0-1.04.2-1.43.59L10.3 9.45l-7.72 7.72c-.78.78-.78 2.05 0 2.83L4 21.41c.39.39.9.59 1.41.59.51 0 1.02-.2 1.41-.59l7.78-7.78 2.81-2.81c.8-.78.8-2.07 0-2.86zM5.41 20L4 18.59l7.72-7.72 1.47 1.35L5.41 20z\"/>\n",
              "  </svg>\n",
              "      </button>\n",
              "      \n",
              "  <style>\n",
              "    .colab-df-container {\n",
              "      display:flex;\n",
              "      flex-wrap:wrap;\n",
              "      gap: 12px;\n",
              "    }\n",
              "\n",
              "    .colab-df-convert {\n",
              "      background-color: #E8F0FE;\n",
              "      border: none;\n",
              "      border-radius: 50%;\n",
              "      cursor: pointer;\n",
              "      display: none;\n",
              "      fill: #1967D2;\n",
              "      height: 32px;\n",
              "      padding: 0 0 0 0;\n",
              "      width: 32px;\n",
              "    }\n",
              "\n",
              "    .colab-df-convert:hover {\n",
              "      background-color: #E2EBFA;\n",
              "      box-shadow: 0px 1px 2px rgba(60, 64, 67, 0.3), 0px 1px 3px 1px rgba(60, 64, 67, 0.15);\n",
              "      fill: #174EA6;\n",
              "    }\n",
              "\n",
              "    [theme=dark] .colab-df-convert {\n",
              "      background-color: #3B4455;\n",
              "      fill: #D2E3FC;\n",
              "    }\n",
              "\n",
              "    [theme=dark] .colab-df-convert:hover {\n",
              "      background-color: #434B5C;\n",
              "      box-shadow: 0px 1px 3px 1px rgba(0, 0, 0, 0.15);\n",
              "      filter: drop-shadow(0px 1px 2px rgba(0, 0, 0, 0.3));\n",
              "      fill: #FFFFFF;\n",
              "    }\n",
              "  </style>\n",
              "\n",
              "      <script>\n",
              "        const buttonEl =\n",
              "          document.querySelector('#df-965a39cd-6942-4c2d-b5cb-0ed3490f4a69 button.colab-df-convert');\n",
              "        buttonEl.style.display =\n",
              "          google.colab.kernel.accessAllowed ? 'block' : 'none';\n",
              "\n",
              "        async function convertToInteractive(key) {\n",
              "          const element = document.querySelector('#df-965a39cd-6942-4c2d-b5cb-0ed3490f4a69');\n",
              "          const dataTable =\n",
              "            await google.colab.kernel.invokeFunction('convertToInteractive',\n",
              "                                                     [key], {});\n",
              "          if (!dataTable) return;\n",
              "\n",
              "          const docLinkHtml = 'Like what you see? Visit the ' +\n",
              "            '<a target=\"_blank\" href=https://colab.research.google.com/notebooks/data_table.ipynb>data table notebook</a>'\n",
              "            + ' to learn more about interactive tables.';\n",
              "          element.innerHTML = '';\n",
              "          dataTable['output_type'] = 'display_data';\n",
              "          await google.colab.output.renderOutput(dataTable, element);\n",
              "          const docLink = document.createElement('div');\n",
              "          docLink.innerHTML = docLinkHtml;\n",
              "          element.appendChild(docLink);\n",
              "        }\n",
              "      </script>\n",
              "    </div>\n",
              "  </div>\n",
              "  "
            ],
            "text/plain": [
              "                         id  ... main_artist\n",
              "619  3aQem4jVGdhtg116TmJnHz  ...       Drake\n",
              "501  65OVbaJR5O1RmwOQx0875b  ...       Drake\n",
              "454  2SAqBLGA283SUiwJ3xOUVI  ...       Drake\n",
              "398  6EDO9iiTtwNv6waLwa1UUq  ...       Drake\n",
              "254  4FRW5Nza1Ym91BGV4nFWXI  ...       Drake\n",
              "\n",
              "[5 rows x 21 columns]"
            ]
          },
          "metadata": {},
          "execution_count": 49
        }
      ]
    },
    {
      "cell_type": "code",
      "source": [
        "?df.sort_values"
      ],
      "metadata": {
        "id": "hOquE279HCxy"
      },
      "execution_count": 50,
      "outputs": []
    },
    {
      "cell_type": "code",
      "metadata": {
        "colab": {
          "base_uri": "https://localhost:8080/",
          "height": 600
        },
        "id": "VgT32JUwbmPQ",
        "outputId": "2d0b88d4-86c1-4487-fcd8-fd0c7b742193"
      },
      "source": [
        "df.sort_values(by='duration_ms', ascending=False).head()"
      ],
      "execution_count": 51,
      "outputs": [
        {
          "output_type": "execute_result",
          "data": {
            "text/html": [
              "\n",
              "  <div id=\"df-d8082b51-8e14-4eb6-ad80-286d71577bad\">\n",
              "    <div class=\"colab-df-container\">\n",
              "      <div>\n",
              "<style scoped>\n",
              "    .dataframe tbody tr th:only-of-type {\n",
              "        vertical-align: middle;\n",
              "    }\n",
              "\n",
              "    .dataframe tbody tr th {\n",
              "        vertical-align: top;\n",
              "    }\n",
              "\n",
              "    .dataframe thead th {\n",
              "        text-align: right;\n",
              "    }\n",
              "</style>\n",
              "<table border=\"1\" class=\"dataframe\">\n",
              "  <thead>\n",
              "    <tr style=\"text-align: right;\">\n",
              "      <th></th>\n",
              "      <th>id</th>\n",
              "      <th>name</th>\n",
              "      <th>popularity</th>\n",
              "      <th>duration_ms</th>\n",
              "      <th>explicit</th>\n",
              "      <th>artists</th>\n",
              "      <th>id_artists</th>\n",
              "      <th>release_date</th>\n",
              "      <th>danceability</th>\n",
              "      <th>energy</th>\n",
              "      <th>key</th>\n",
              "      <th>loudness</th>\n",
              "      <th>mode</th>\n",
              "      <th>speechiness</th>\n",
              "      <th>acousticness</th>\n",
              "      <th>instrumentalness</th>\n",
              "      <th>liveness</th>\n",
              "      <th>valence</th>\n",
              "      <th>tempo</th>\n",
              "      <th>time_signature</th>\n",
              "      <th>main_artist</th>\n",
              "    </tr>\n",
              "  </thead>\n",
              "  <tbody>\n",
              "    <tr>\n",
              "      <th>416</th>\n",
              "      <td>0OotzYWTwTqoszW9MrXSdZ</td>\n",
              "      <td>Dazed and Confused - (Live at MSG 1973) [Remas...</td>\n",
              "      <td>40</td>\n",
              "      <td>1758307</td>\n",
              "      <td>0</td>\n",
              "      <td>['Led Zeppelin']</td>\n",
              "      <td>['36QJpDe2go2KgaRleHCDTp']</td>\n",
              "      <td>1976-10-22</td>\n",
              "      <td>0.307</td>\n",
              "      <td>0.897</td>\n",
              "      <td>0</td>\n",
              "      <td>-8.595</td>\n",
              "      <td>1</td>\n",
              "      <td>0.1060</td>\n",
              "      <td>0.007400</td>\n",
              "      <td>0.49900</td>\n",
              "      <td>0.942</td>\n",
              "      <td>0.218</td>\n",
              "      <td>125.893</td>\n",
              "      <td>4</td>\n",
              "      <td>Zeppelin</td>\n",
              "    </tr>\n",
              "    <tr>\n",
              "      <th>30</th>\n",
              "      <td>76HR8Ox6ApIoipqrXDheZ3</td>\n",
              "      <td>Dazed and Confused - Live in Paris, 1969</td>\n",
              "      <td>28</td>\n",
              "      <td>901640</td>\n",
              "      <td>0</td>\n",
              "      <td>['Led Zeppelin']</td>\n",
              "      <td>['36QJpDe2go2KgaRleHCDTp']</td>\n",
              "      <td>1969-01-12</td>\n",
              "      <td>0.271</td>\n",
              "      <td>0.642</td>\n",
              "      <td>2</td>\n",
              "      <td>-10.107</td>\n",
              "      <td>1</td>\n",
              "      <td>0.0778</td>\n",
              "      <td>0.000893</td>\n",
              "      <td>0.27700</td>\n",
              "      <td>0.634</td>\n",
              "      <td>0.125</td>\n",
              "      <td>125.768</td>\n",
              "      <td>4</td>\n",
              "      <td>Zeppelin</td>\n",
              "    </tr>\n",
              "    <tr>\n",
              "      <th>450</th>\n",
              "      <td>2EbfJIOLyZcyHEZosJC0dT</td>\n",
              "      <td>Whole Lotta Love - (Live at MSG 1973) [Remaster]</td>\n",
              "      <td>37</td>\n",
              "      <td>832027</td>\n",
              "      <td>0</td>\n",
              "      <td>['Led Zeppelin']</td>\n",
              "      <td>['36QJpDe2go2KgaRleHCDTp']</td>\n",
              "      <td>1976-10-22</td>\n",
              "      <td>0.291</td>\n",
              "      <td>0.942</td>\n",
              "      <td>9</td>\n",
              "      <td>-7.912</td>\n",
              "      <td>1</td>\n",
              "      <td>0.1650</td>\n",
              "      <td>0.004500</td>\n",
              "      <td>0.03830</td>\n",
              "      <td>0.890</td>\n",
              "      <td>0.395</td>\n",
              "      <td>105.117</td>\n",
              "      <td>4</td>\n",
              "      <td>Zeppelin</td>\n",
              "    </tr>\n",
              "    <tr>\n",
              "      <th>383</th>\n",
              "      <td>4EUe6BsZm5wZLxOTaV3kDX</td>\n",
              "      <td>In My Time of Dying - Remaster</td>\n",
              "      <td>39</td>\n",
              "      <td>668441</td>\n",
              "      <td>0</td>\n",
              "      <td>['Led Zeppelin']</td>\n",
              "      <td>['36QJpDe2go2KgaRleHCDTp']</td>\n",
              "      <td>1975-02-24</td>\n",
              "      <td>0.348</td>\n",
              "      <td>0.865</td>\n",
              "      <td>2</td>\n",
              "      <td>-9.727</td>\n",
              "      <td>1</td>\n",
              "      <td>0.0625</td>\n",
              "      <td>0.262000</td>\n",
              "      <td>0.00279</td>\n",
              "      <td>0.121</td>\n",
              "      <td>0.471</td>\n",
              "      <td>102.078</td>\n",
              "      <td>4</td>\n",
              "      <td>Zeppelin</td>\n",
              "    </tr>\n",
              "    <tr>\n",
              "      <th>63</th>\n",
              "      <td>5g9VOUgrn7ozYE3ZQm8w41</td>\n",
              "      <td>In My Time of Dying - 1990 Remaster</td>\n",
              "      <td>52</td>\n",
              "      <td>665600</td>\n",
              "      <td>0</td>\n",
              "      <td>['Led Zeppelin']</td>\n",
              "      <td>['36QJpDe2go2KgaRleHCDTp']</td>\n",
              "      <td>1975-02-24</td>\n",
              "      <td>0.330</td>\n",
              "      <td>0.843</td>\n",
              "      <td>2</td>\n",
              "      <td>-10.221</td>\n",
              "      <td>1</td>\n",
              "      <td>0.0581</td>\n",
              "      <td>0.137000</td>\n",
              "      <td>0.00586</td>\n",
              "      <td>0.199</td>\n",
              "      <td>0.474</td>\n",
              "      <td>101.855</td>\n",
              "      <td>4</td>\n",
              "      <td>Zeppelin</td>\n",
              "    </tr>\n",
              "  </tbody>\n",
              "</table>\n",
              "</div>\n",
              "      <button class=\"colab-df-convert\" onclick=\"convertToInteractive('df-d8082b51-8e14-4eb6-ad80-286d71577bad')\"\n",
              "              title=\"Convert this dataframe to an interactive table.\"\n",
              "              style=\"display:none;\">\n",
              "        \n",
              "  <svg xmlns=\"http://www.w3.org/2000/svg\" height=\"24px\"viewBox=\"0 0 24 24\"\n",
              "       width=\"24px\">\n",
              "    <path d=\"M0 0h24v24H0V0z\" fill=\"none\"/>\n",
              "    <path d=\"M18.56 5.44l.94 2.06.94-2.06 2.06-.94-2.06-.94-.94-2.06-.94 2.06-2.06.94zm-11 1L8.5 8.5l.94-2.06 2.06-.94-2.06-.94L8.5 2.5l-.94 2.06-2.06.94zm10 10l.94 2.06.94-2.06 2.06-.94-2.06-.94-.94-2.06-.94 2.06-2.06.94z\"/><path d=\"M17.41 7.96l-1.37-1.37c-.4-.4-.92-.59-1.43-.59-.52 0-1.04.2-1.43.59L10.3 9.45l-7.72 7.72c-.78.78-.78 2.05 0 2.83L4 21.41c.39.39.9.59 1.41.59.51 0 1.02-.2 1.41-.59l7.78-7.78 2.81-2.81c.8-.78.8-2.07 0-2.86zM5.41 20L4 18.59l7.72-7.72 1.47 1.35L5.41 20z\"/>\n",
              "  </svg>\n",
              "      </button>\n",
              "      \n",
              "  <style>\n",
              "    .colab-df-container {\n",
              "      display:flex;\n",
              "      flex-wrap:wrap;\n",
              "      gap: 12px;\n",
              "    }\n",
              "\n",
              "    .colab-df-convert {\n",
              "      background-color: #E8F0FE;\n",
              "      border: none;\n",
              "      border-radius: 50%;\n",
              "      cursor: pointer;\n",
              "      display: none;\n",
              "      fill: #1967D2;\n",
              "      height: 32px;\n",
              "      padding: 0 0 0 0;\n",
              "      width: 32px;\n",
              "    }\n",
              "\n",
              "    .colab-df-convert:hover {\n",
              "      background-color: #E2EBFA;\n",
              "      box-shadow: 0px 1px 2px rgba(60, 64, 67, 0.3), 0px 1px 3px 1px rgba(60, 64, 67, 0.15);\n",
              "      fill: #174EA6;\n",
              "    }\n",
              "\n",
              "    [theme=dark] .colab-df-convert {\n",
              "      background-color: #3B4455;\n",
              "      fill: #D2E3FC;\n",
              "    }\n",
              "\n",
              "    [theme=dark] .colab-df-convert:hover {\n",
              "      background-color: #434B5C;\n",
              "      box-shadow: 0px 1px 3px 1px rgba(0, 0, 0, 0.15);\n",
              "      filter: drop-shadow(0px 1px 2px rgba(0, 0, 0, 0.3));\n",
              "      fill: #FFFFFF;\n",
              "    }\n",
              "  </style>\n",
              "\n",
              "      <script>\n",
              "        const buttonEl =\n",
              "          document.querySelector('#df-d8082b51-8e14-4eb6-ad80-286d71577bad button.colab-df-convert');\n",
              "        buttonEl.style.display =\n",
              "          google.colab.kernel.accessAllowed ? 'block' : 'none';\n",
              "\n",
              "        async function convertToInteractive(key) {\n",
              "          const element = document.querySelector('#df-d8082b51-8e14-4eb6-ad80-286d71577bad');\n",
              "          const dataTable =\n",
              "            await google.colab.kernel.invokeFunction('convertToInteractive',\n",
              "                                                     [key], {});\n",
              "          if (!dataTable) return;\n",
              "\n",
              "          const docLinkHtml = 'Like what you see? Visit the ' +\n",
              "            '<a target=\"_blank\" href=https://colab.research.google.com/notebooks/data_table.ipynb>data table notebook</a>'\n",
              "            + ' to learn more about interactive tables.';\n",
              "          element.innerHTML = '';\n",
              "          dataTable['output_type'] = 'display_data';\n",
              "          await google.colab.output.renderOutput(dataTable, element);\n",
              "          const docLink = document.createElement('div');\n",
              "          docLink.innerHTML = docLinkHtml;\n",
              "          element.appendChild(docLink);\n",
              "        }\n",
              "      </script>\n",
              "    </div>\n",
              "  </div>\n",
              "  "
            ],
            "text/plain": [
              "                         id  ... main_artist\n",
              "416  0OotzYWTwTqoszW9MrXSdZ  ...    Zeppelin\n",
              "30   76HR8Ox6ApIoipqrXDheZ3  ...    Zeppelin\n",
              "450  2EbfJIOLyZcyHEZosJC0dT  ...    Zeppelin\n",
              "383  4EUe6BsZm5wZLxOTaV3kDX  ...    Zeppelin\n",
              "63   5g9VOUgrn7ozYE3ZQm8w41  ...    Zeppelin\n",
              "\n",
              "[5 rows x 21 columns]"
            ]
          },
          "metadata": {},
          "execution_count": 51
        }
      ]
    },
    {
      "cell_type": "markdown",
      "metadata": {
        "id": "bQuxdREpbmTA"
      },
      "source": [
        "Hmmm... we notice here that duration is tracked in milliseconds. This is useful in some cases, but not very interpretable to a human reader. We'll calculate a new column for duration in minutes."
      ]
    },
    {
      "cell_type": "code",
      "metadata": {
        "id": "0x25qF13bmU7"
      },
      "source": [
        "# Calculate duration in minutes (1 min = 60 seconds = 60,000 ms)\n",
        "df['duration_mins'] = df['duration_ms'] / 1000 / 60"
      ],
      "execution_count": 52,
      "outputs": []
    },
    {
      "cell_type": "code",
      "metadata": {
        "colab": {
          "base_uri": "https://localhost:8080/",
          "height": 423
        },
        "id": "ribXnLEObmXa",
        "outputId": "91b2143b-a382-45e5-9e06-8364d26bed99"
      },
      "source": [
        "df[['name', 'artists', 'duration_mins']]"
      ],
      "execution_count": 53,
      "outputs": [
        {
          "output_type": "execute_result",
          "data": {
            "text/html": [
              "\n",
              "  <div id=\"df-9669cb55-d71e-4b8a-a52e-52097c3dc76e\">\n",
              "    <div class=\"colab-df-container\">\n",
              "      <div>\n",
              "<style scoped>\n",
              "    .dataframe tbody tr th:only-of-type {\n",
              "        vertical-align: middle;\n",
              "    }\n",
              "\n",
              "    .dataframe tbody tr th {\n",
              "        vertical-align: top;\n",
              "    }\n",
              "\n",
              "    .dataframe thead th {\n",
              "        text-align: right;\n",
              "    }\n",
              "</style>\n",
              "<table border=\"1\" class=\"dataframe\">\n",
              "  <thead>\n",
              "    <tr style=\"text-align: right;\">\n",
              "      <th></th>\n",
              "      <th>name</th>\n",
              "      <th>artists</th>\n",
              "      <th>duration_mins</th>\n",
              "    </tr>\n",
              "  </thead>\n",
              "  <tbody>\n",
              "    <tr>\n",
              "      <th>0</th>\n",
              "      <td>Best I Ever Had</td>\n",
              "      <td>['Drake']</td>\n",
              "      <td>4.313333</td>\n",
              "    </tr>\n",
              "    <tr>\n",
              "      <th>1</th>\n",
              "      <td>My Only Wish (This Year)</td>\n",
              "      <td>['Britney Spears']</td>\n",
              "      <td>4.245333</td>\n",
              "    </tr>\n",
              "    <tr>\n",
              "      <th>2</th>\n",
              "      <td>The Crunge - Remaster</td>\n",
              "      <td>['Led Zeppelin']</td>\n",
              "      <td>3.295067</td>\n",
              "    </tr>\n",
              "    <tr>\n",
              "      <th>3</th>\n",
              "      <td>Thank You - Remaster</td>\n",
              "      <td>['Led Zeppelin']</td>\n",
              "      <td>4.824750</td>\n",
              "    </tr>\n",
              "    <tr>\n",
              "      <th>4</th>\n",
              "      <td>What's My Name?</td>\n",
              "      <td>['Rihanna', 'Drake']</td>\n",
              "      <td>4.386217</td>\n",
              "    </tr>\n",
              "    <tr>\n",
              "      <th>...</th>\n",
              "      <td>...</td>\n",
              "      <td>...</td>\n",
              "      <td>...</td>\n",
              "    </tr>\n",
              "    <tr>\n",
              "      <th>631</th>\n",
              "      <td>...Baby One More Time - Remastered</td>\n",
              "      <td>['Britney Spears']</td>\n",
              "      <td>3.510083</td>\n",
              "    </tr>\n",
              "    <tr>\n",
              "      <th>632</th>\n",
              "      <td>Candy Store Rock - Remaster</td>\n",
              "      <td>['Led Zeppelin']</td>\n",
              "      <td>4.189550</td>\n",
              "    </tr>\n",
              "    <tr>\n",
              "      <th>633</th>\n",
              "      <td>The Rain Song - Remaster</td>\n",
              "      <td>['Led Zeppelin']</td>\n",
              "      <td>7.651567</td>\n",
              "    </tr>\n",
              "    <tr>\n",
              "      <th>634</th>\n",
              "      <td>For Your Life - 1990 Remaster</td>\n",
              "      <td>['Led Zeppelin']</td>\n",
              "      <td>6.401783</td>\n",
              "    </tr>\n",
              "    <tr>\n",
              "      <th>635</th>\n",
              "      <td>The Song Remains the Same - Remaster</td>\n",
              "      <td>['Led Zeppelin']</td>\n",
              "      <td>5.484900</td>\n",
              "    </tr>\n",
              "  </tbody>\n",
              "</table>\n",
              "<p>636 rows × 3 columns</p>\n",
              "</div>\n",
              "      <button class=\"colab-df-convert\" onclick=\"convertToInteractive('df-9669cb55-d71e-4b8a-a52e-52097c3dc76e')\"\n",
              "              title=\"Convert this dataframe to an interactive table.\"\n",
              "              style=\"display:none;\">\n",
              "        \n",
              "  <svg xmlns=\"http://www.w3.org/2000/svg\" height=\"24px\"viewBox=\"0 0 24 24\"\n",
              "       width=\"24px\">\n",
              "    <path d=\"M0 0h24v24H0V0z\" fill=\"none\"/>\n",
              "    <path d=\"M18.56 5.44l.94 2.06.94-2.06 2.06-.94-2.06-.94-.94-2.06-.94 2.06-2.06.94zm-11 1L8.5 8.5l.94-2.06 2.06-.94-2.06-.94L8.5 2.5l-.94 2.06-2.06.94zm10 10l.94 2.06.94-2.06 2.06-.94-2.06-.94-.94-2.06-.94 2.06-2.06.94z\"/><path d=\"M17.41 7.96l-1.37-1.37c-.4-.4-.92-.59-1.43-.59-.52 0-1.04.2-1.43.59L10.3 9.45l-7.72 7.72c-.78.78-.78 2.05 0 2.83L4 21.41c.39.39.9.59 1.41.59.51 0 1.02-.2 1.41-.59l7.78-7.78 2.81-2.81c.8-.78.8-2.07 0-2.86zM5.41 20L4 18.59l7.72-7.72 1.47 1.35L5.41 20z\"/>\n",
              "  </svg>\n",
              "      </button>\n",
              "      \n",
              "  <style>\n",
              "    .colab-df-container {\n",
              "      display:flex;\n",
              "      flex-wrap:wrap;\n",
              "      gap: 12px;\n",
              "    }\n",
              "\n",
              "    .colab-df-convert {\n",
              "      background-color: #E8F0FE;\n",
              "      border: none;\n",
              "      border-radius: 50%;\n",
              "      cursor: pointer;\n",
              "      display: none;\n",
              "      fill: #1967D2;\n",
              "      height: 32px;\n",
              "      padding: 0 0 0 0;\n",
              "      width: 32px;\n",
              "    }\n",
              "\n",
              "    .colab-df-convert:hover {\n",
              "      background-color: #E2EBFA;\n",
              "      box-shadow: 0px 1px 2px rgba(60, 64, 67, 0.3), 0px 1px 3px 1px rgba(60, 64, 67, 0.15);\n",
              "      fill: #174EA6;\n",
              "    }\n",
              "\n",
              "    [theme=dark] .colab-df-convert {\n",
              "      background-color: #3B4455;\n",
              "      fill: #D2E3FC;\n",
              "    }\n",
              "\n",
              "    [theme=dark] .colab-df-convert:hover {\n",
              "      background-color: #434B5C;\n",
              "      box-shadow: 0px 1px 3px 1px rgba(0, 0, 0, 0.15);\n",
              "      filter: drop-shadow(0px 1px 2px rgba(0, 0, 0, 0.3));\n",
              "      fill: #FFFFFF;\n",
              "    }\n",
              "  </style>\n",
              "\n",
              "      <script>\n",
              "        const buttonEl =\n",
              "          document.querySelector('#df-9669cb55-d71e-4b8a-a52e-52097c3dc76e button.colab-df-convert');\n",
              "        buttonEl.style.display =\n",
              "          google.colab.kernel.accessAllowed ? 'block' : 'none';\n",
              "\n",
              "        async function convertToInteractive(key) {\n",
              "          const element = document.querySelector('#df-9669cb55-d71e-4b8a-a52e-52097c3dc76e');\n",
              "          const dataTable =\n",
              "            await google.colab.kernel.invokeFunction('convertToInteractive',\n",
              "                                                     [key], {});\n",
              "          if (!dataTable) return;\n",
              "\n",
              "          const docLinkHtml = 'Like what you see? Visit the ' +\n",
              "            '<a target=\"_blank\" href=https://colab.research.google.com/notebooks/data_table.ipynb>data table notebook</a>'\n",
              "            + ' to learn more about interactive tables.';\n",
              "          element.innerHTML = '';\n",
              "          dataTable['output_type'] = 'display_data';\n",
              "          await google.colab.output.renderOutput(dataTable, element);\n",
              "          const docLink = document.createElement('div');\n",
              "          docLink.innerHTML = docLinkHtml;\n",
              "          element.appendChild(docLink);\n",
              "        }\n",
              "      </script>\n",
              "    </div>\n",
              "  </div>\n",
              "  "
            ],
            "text/plain": [
              "                                     name               artists  duration_mins\n",
              "0                         Best I Ever Had             ['Drake']       4.313333\n",
              "1                My Only Wish (This Year)    ['Britney Spears']       4.245333\n",
              "2                   The Crunge - Remaster      ['Led Zeppelin']       3.295067\n",
              "3                    Thank You - Remaster      ['Led Zeppelin']       4.824750\n",
              "4                         What's My Name?  ['Rihanna', 'Drake']       4.386217\n",
              "..                                    ...                   ...            ...\n",
              "631    ...Baby One More Time - Remastered    ['Britney Spears']       3.510083\n",
              "632           Candy Store Rock - Remaster      ['Led Zeppelin']       4.189550\n",
              "633              The Rain Song - Remaster      ['Led Zeppelin']       7.651567\n",
              "634         For Your Life - 1990 Remaster      ['Led Zeppelin']       6.401783\n",
              "635  The Song Remains the Same - Remaster      ['Led Zeppelin']       5.484900\n",
              "\n",
              "[636 rows x 3 columns]"
            ]
          },
          "metadata": {},
          "execution_count": 53
        }
      ]
    },
    {
      "cell_type": "code",
      "source": [
        "df.sort_values(by='duration_mins', ascending=False).head()"
      ],
      "metadata": {
        "colab": {
          "base_uri": "https://localhost:8080/",
          "height": 600
        },
        "id": "w1Zl69OhHtEj",
        "outputId": "0b43ac09-777a-482b-8789-1b18a65cbc8e"
      },
      "execution_count": 54,
      "outputs": [
        {
          "output_type": "execute_result",
          "data": {
            "text/html": [
              "\n",
              "  <div id=\"df-505ca7a1-a1a2-4908-8a13-8db4cce63cf8\">\n",
              "    <div class=\"colab-df-container\">\n",
              "      <div>\n",
              "<style scoped>\n",
              "    .dataframe tbody tr th:only-of-type {\n",
              "        vertical-align: middle;\n",
              "    }\n",
              "\n",
              "    .dataframe tbody tr th {\n",
              "        vertical-align: top;\n",
              "    }\n",
              "\n",
              "    .dataframe thead th {\n",
              "        text-align: right;\n",
              "    }\n",
              "</style>\n",
              "<table border=\"1\" class=\"dataframe\">\n",
              "  <thead>\n",
              "    <tr style=\"text-align: right;\">\n",
              "      <th></th>\n",
              "      <th>id</th>\n",
              "      <th>name</th>\n",
              "      <th>popularity</th>\n",
              "      <th>duration_ms</th>\n",
              "      <th>explicit</th>\n",
              "      <th>artists</th>\n",
              "      <th>id_artists</th>\n",
              "      <th>release_date</th>\n",
              "      <th>danceability</th>\n",
              "      <th>energy</th>\n",
              "      <th>key</th>\n",
              "      <th>loudness</th>\n",
              "      <th>mode</th>\n",
              "      <th>speechiness</th>\n",
              "      <th>acousticness</th>\n",
              "      <th>instrumentalness</th>\n",
              "      <th>liveness</th>\n",
              "      <th>valence</th>\n",
              "      <th>tempo</th>\n",
              "      <th>time_signature</th>\n",
              "      <th>main_artist</th>\n",
              "      <th>duration_mins</th>\n",
              "    </tr>\n",
              "  </thead>\n",
              "  <tbody>\n",
              "    <tr>\n",
              "      <th>416</th>\n",
              "      <td>0OotzYWTwTqoszW9MrXSdZ</td>\n",
              "      <td>Dazed and Confused - (Live at MSG 1973) [Remas...</td>\n",
              "      <td>40</td>\n",
              "      <td>1758307</td>\n",
              "      <td>0</td>\n",
              "      <td>['Led Zeppelin']</td>\n",
              "      <td>['36QJpDe2go2KgaRleHCDTp']</td>\n",
              "      <td>1976-10-22</td>\n",
              "      <td>0.307</td>\n",
              "      <td>0.897</td>\n",
              "      <td>0</td>\n",
              "      <td>-8.595</td>\n",
              "      <td>1</td>\n",
              "      <td>0.1060</td>\n",
              "      <td>0.007400</td>\n",
              "      <td>0.49900</td>\n",
              "      <td>0.942</td>\n",
              "      <td>0.218</td>\n",
              "      <td>125.893</td>\n",
              "      <td>4</td>\n",
              "      <td>Zeppelin</td>\n",
              "      <td>29.305117</td>\n",
              "    </tr>\n",
              "    <tr>\n",
              "      <th>30</th>\n",
              "      <td>76HR8Ox6ApIoipqrXDheZ3</td>\n",
              "      <td>Dazed and Confused - Live in Paris, 1969</td>\n",
              "      <td>28</td>\n",
              "      <td>901640</td>\n",
              "      <td>0</td>\n",
              "      <td>['Led Zeppelin']</td>\n",
              "      <td>['36QJpDe2go2KgaRleHCDTp']</td>\n",
              "      <td>1969-01-12</td>\n",
              "      <td>0.271</td>\n",
              "      <td>0.642</td>\n",
              "      <td>2</td>\n",
              "      <td>-10.107</td>\n",
              "      <td>1</td>\n",
              "      <td>0.0778</td>\n",
              "      <td>0.000893</td>\n",
              "      <td>0.27700</td>\n",
              "      <td>0.634</td>\n",
              "      <td>0.125</td>\n",
              "      <td>125.768</td>\n",
              "      <td>4</td>\n",
              "      <td>Zeppelin</td>\n",
              "      <td>15.027333</td>\n",
              "    </tr>\n",
              "    <tr>\n",
              "      <th>450</th>\n",
              "      <td>2EbfJIOLyZcyHEZosJC0dT</td>\n",
              "      <td>Whole Lotta Love - (Live at MSG 1973) [Remaster]</td>\n",
              "      <td>37</td>\n",
              "      <td>832027</td>\n",
              "      <td>0</td>\n",
              "      <td>['Led Zeppelin']</td>\n",
              "      <td>['36QJpDe2go2KgaRleHCDTp']</td>\n",
              "      <td>1976-10-22</td>\n",
              "      <td>0.291</td>\n",
              "      <td>0.942</td>\n",
              "      <td>9</td>\n",
              "      <td>-7.912</td>\n",
              "      <td>1</td>\n",
              "      <td>0.1650</td>\n",
              "      <td>0.004500</td>\n",
              "      <td>0.03830</td>\n",
              "      <td>0.890</td>\n",
              "      <td>0.395</td>\n",
              "      <td>105.117</td>\n",
              "      <td>4</td>\n",
              "      <td>Zeppelin</td>\n",
              "      <td>13.867117</td>\n",
              "    </tr>\n",
              "    <tr>\n",
              "      <th>383</th>\n",
              "      <td>4EUe6BsZm5wZLxOTaV3kDX</td>\n",
              "      <td>In My Time of Dying - Remaster</td>\n",
              "      <td>39</td>\n",
              "      <td>668441</td>\n",
              "      <td>0</td>\n",
              "      <td>['Led Zeppelin']</td>\n",
              "      <td>['36QJpDe2go2KgaRleHCDTp']</td>\n",
              "      <td>1975-02-24</td>\n",
              "      <td>0.348</td>\n",
              "      <td>0.865</td>\n",
              "      <td>2</td>\n",
              "      <td>-9.727</td>\n",
              "      <td>1</td>\n",
              "      <td>0.0625</td>\n",
              "      <td>0.262000</td>\n",
              "      <td>0.00279</td>\n",
              "      <td>0.121</td>\n",
              "      <td>0.471</td>\n",
              "      <td>102.078</td>\n",
              "      <td>4</td>\n",
              "      <td>Zeppelin</td>\n",
              "      <td>11.140683</td>\n",
              "    </tr>\n",
              "    <tr>\n",
              "      <th>63</th>\n",
              "      <td>5g9VOUgrn7ozYE3ZQm8w41</td>\n",
              "      <td>In My Time of Dying - 1990 Remaster</td>\n",
              "      <td>52</td>\n",
              "      <td>665600</td>\n",
              "      <td>0</td>\n",
              "      <td>['Led Zeppelin']</td>\n",
              "      <td>['36QJpDe2go2KgaRleHCDTp']</td>\n",
              "      <td>1975-02-24</td>\n",
              "      <td>0.330</td>\n",
              "      <td>0.843</td>\n",
              "      <td>2</td>\n",
              "      <td>-10.221</td>\n",
              "      <td>1</td>\n",
              "      <td>0.0581</td>\n",
              "      <td>0.137000</td>\n",
              "      <td>0.00586</td>\n",
              "      <td>0.199</td>\n",
              "      <td>0.474</td>\n",
              "      <td>101.855</td>\n",
              "      <td>4</td>\n",
              "      <td>Zeppelin</td>\n",
              "      <td>11.093333</td>\n",
              "    </tr>\n",
              "  </tbody>\n",
              "</table>\n",
              "</div>\n",
              "      <button class=\"colab-df-convert\" onclick=\"convertToInteractive('df-505ca7a1-a1a2-4908-8a13-8db4cce63cf8')\"\n",
              "              title=\"Convert this dataframe to an interactive table.\"\n",
              "              style=\"display:none;\">\n",
              "        \n",
              "  <svg xmlns=\"http://www.w3.org/2000/svg\" height=\"24px\"viewBox=\"0 0 24 24\"\n",
              "       width=\"24px\">\n",
              "    <path d=\"M0 0h24v24H0V0z\" fill=\"none\"/>\n",
              "    <path d=\"M18.56 5.44l.94 2.06.94-2.06 2.06-.94-2.06-.94-.94-2.06-.94 2.06-2.06.94zm-11 1L8.5 8.5l.94-2.06 2.06-.94-2.06-.94L8.5 2.5l-.94 2.06-2.06.94zm10 10l.94 2.06.94-2.06 2.06-.94-2.06-.94-.94-2.06-.94 2.06-2.06.94z\"/><path d=\"M17.41 7.96l-1.37-1.37c-.4-.4-.92-.59-1.43-.59-.52 0-1.04.2-1.43.59L10.3 9.45l-7.72 7.72c-.78.78-.78 2.05 0 2.83L4 21.41c.39.39.9.59 1.41.59.51 0 1.02-.2 1.41-.59l7.78-7.78 2.81-2.81c.8-.78.8-2.07 0-2.86zM5.41 20L4 18.59l7.72-7.72 1.47 1.35L5.41 20z\"/>\n",
              "  </svg>\n",
              "      </button>\n",
              "      \n",
              "  <style>\n",
              "    .colab-df-container {\n",
              "      display:flex;\n",
              "      flex-wrap:wrap;\n",
              "      gap: 12px;\n",
              "    }\n",
              "\n",
              "    .colab-df-convert {\n",
              "      background-color: #E8F0FE;\n",
              "      border: none;\n",
              "      border-radius: 50%;\n",
              "      cursor: pointer;\n",
              "      display: none;\n",
              "      fill: #1967D2;\n",
              "      height: 32px;\n",
              "      padding: 0 0 0 0;\n",
              "      width: 32px;\n",
              "    }\n",
              "\n",
              "    .colab-df-convert:hover {\n",
              "      background-color: #E2EBFA;\n",
              "      box-shadow: 0px 1px 2px rgba(60, 64, 67, 0.3), 0px 1px 3px 1px rgba(60, 64, 67, 0.15);\n",
              "      fill: #174EA6;\n",
              "    }\n",
              "\n",
              "    [theme=dark] .colab-df-convert {\n",
              "      background-color: #3B4455;\n",
              "      fill: #D2E3FC;\n",
              "    }\n",
              "\n",
              "    [theme=dark] .colab-df-convert:hover {\n",
              "      background-color: #434B5C;\n",
              "      box-shadow: 0px 1px 3px 1px rgba(0, 0, 0, 0.15);\n",
              "      filter: drop-shadow(0px 1px 2px rgba(0, 0, 0, 0.3));\n",
              "      fill: #FFFFFF;\n",
              "    }\n",
              "  </style>\n",
              "\n",
              "      <script>\n",
              "        const buttonEl =\n",
              "          document.querySelector('#df-505ca7a1-a1a2-4908-8a13-8db4cce63cf8 button.colab-df-convert');\n",
              "        buttonEl.style.display =\n",
              "          google.colab.kernel.accessAllowed ? 'block' : 'none';\n",
              "\n",
              "        async function convertToInteractive(key) {\n",
              "          const element = document.querySelector('#df-505ca7a1-a1a2-4908-8a13-8db4cce63cf8');\n",
              "          const dataTable =\n",
              "            await google.colab.kernel.invokeFunction('convertToInteractive',\n",
              "                                                     [key], {});\n",
              "          if (!dataTable) return;\n",
              "\n",
              "          const docLinkHtml = 'Like what you see? Visit the ' +\n",
              "            '<a target=\"_blank\" href=https://colab.research.google.com/notebooks/data_table.ipynb>data table notebook</a>'\n",
              "            + ' to learn more about interactive tables.';\n",
              "          element.innerHTML = '';\n",
              "          dataTable['output_type'] = 'display_data';\n",
              "          await google.colab.output.renderOutput(dataTable, element);\n",
              "          const docLink = document.createElement('div');\n",
              "          docLink.innerHTML = docLinkHtml;\n",
              "          element.appendChild(docLink);\n",
              "        }\n",
              "      </script>\n",
              "    </div>\n",
              "  </div>\n",
              "  "
            ],
            "text/plain": [
              "                         id  ... duration_mins\n",
              "416  0OotzYWTwTqoszW9MrXSdZ  ...     29.305117\n",
              "30   76HR8Ox6ApIoipqrXDheZ3  ...     15.027333\n",
              "450  2EbfJIOLyZcyHEZosJC0dT  ...     13.867117\n",
              "383  4EUe6BsZm5wZLxOTaV3kDX  ...     11.140683\n",
              "63   5g9VOUgrn7ozYE3ZQm8w41  ...     11.093333\n",
              "\n",
              "[5 rows x 22 columns]"
            ]
          },
          "metadata": {},
          "execution_count": 54
        }
      ]
    },
    {
      "cell_type": "code",
      "metadata": {
        "id": "s-WN3NoDtQlL"
      },
      "source": [
        "# Let's round those numbers\n",
        "df['duration_mins'] = round(df['duration_mins'], 2)"
      ],
      "execution_count": 55,
      "outputs": []
    },
    {
      "cell_type": "code",
      "metadata": {
        "colab": {
          "base_uri": "https://localhost:8080/",
          "height": 363
        },
        "id": "dJgenXp7tpQx",
        "outputId": "e32eb72e-1a40-48dd-edb8-6011ea9b20d6"
      },
      "source": [
        "df[['name', 'artists', 'duration_mins']].sort_values(by='duration_mins', ascending=False).head(10)"
      ],
      "execution_count": 56,
      "outputs": [
        {
          "output_type": "execute_result",
          "data": {
            "text/html": [
              "\n",
              "  <div id=\"df-a8a57172-6b7b-492b-9739-96efe1be5bae\">\n",
              "    <div class=\"colab-df-container\">\n",
              "      <div>\n",
              "<style scoped>\n",
              "    .dataframe tbody tr th:only-of-type {\n",
              "        vertical-align: middle;\n",
              "    }\n",
              "\n",
              "    .dataframe tbody tr th {\n",
              "        vertical-align: top;\n",
              "    }\n",
              "\n",
              "    .dataframe thead th {\n",
              "        text-align: right;\n",
              "    }\n",
              "</style>\n",
              "<table border=\"1\" class=\"dataframe\">\n",
              "  <thead>\n",
              "    <tr style=\"text-align: right;\">\n",
              "      <th></th>\n",
              "      <th>name</th>\n",
              "      <th>artists</th>\n",
              "      <th>duration_mins</th>\n",
              "    </tr>\n",
              "  </thead>\n",
              "  <tbody>\n",
              "    <tr>\n",
              "      <th>416</th>\n",
              "      <td>Dazed and Confused - (Live at MSG 1973) [Remas...</td>\n",
              "      <td>['Led Zeppelin']</td>\n",
              "      <td>29.31</td>\n",
              "    </tr>\n",
              "    <tr>\n",
              "      <th>30</th>\n",
              "      <td>Dazed and Confused - Live in Paris, 1969</td>\n",
              "      <td>['Led Zeppelin']</td>\n",
              "      <td>15.03</td>\n",
              "    </tr>\n",
              "    <tr>\n",
              "      <th>450</th>\n",
              "      <td>Whole Lotta Love - (Live at MSG 1973) [Remaster]</td>\n",
              "      <td>['Led Zeppelin']</td>\n",
              "      <td>13.87</td>\n",
              "    </tr>\n",
              "    <tr>\n",
              "      <th>383</th>\n",
              "      <td>In My Time of Dying - Remaster</td>\n",
              "      <td>['Led Zeppelin']</td>\n",
              "      <td>11.14</td>\n",
              "    </tr>\n",
              "    <tr>\n",
              "      <th>63</th>\n",
              "      <td>In My Time of Dying - 1990 Remaster</td>\n",
              "      <td>['Led Zeppelin']</td>\n",
              "      <td>11.09</td>\n",
              "    </tr>\n",
              "    <tr>\n",
              "      <th>144</th>\n",
              "      <td>Moby Dick - (Live at MSG 1973) [Remaster]</td>\n",
              "      <td>['Led Zeppelin']</td>\n",
              "      <td>11.04</td>\n",
              "    </tr>\n",
              "    <tr>\n",
              "      <th>286</th>\n",
              "      <td>Stairway to Heaven - (Live at MSG 1973) [Remas...</td>\n",
              "      <td>['Led Zeppelin']</td>\n",
              "      <td>10.88</td>\n",
              "    </tr>\n",
              "    <tr>\n",
              "      <th>222</th>\n",
              "      <td>No Quarter - (Live at MSG 1973) [Remaster]</td>\n",
              "      <td>['Led Zeppelin']</td>\n",
              "      <td>10.64</td>\n",
              "    </tr>\n",
              "    <tr>\n",
              "      <th>406</th>\n",
              "      <td>Carouselambra - Remaster</td>\n",
              "      <td>['Led Zeppelin']</td>\n",
              "      <td>10.57</td>\n",
              "    </tr>\n",
              "    <tr>\n",
              "      <th>349</th>\n",
              "      <td>Achilles Last Stand - Remaster</td>\n",
              "      <td>['Led Zeppelin']</td>\n",
              "      <td>10.53</td>\n",
              "    </tr>\n",
              "  </tbody>\n",
              "</table>\n",
              "</div>\n",
              "      <button class=\"colab-df-convert\" onclick=\"convertToInteractive('df-a8a57172-6b7b-492b-9739-96efe1be5bae')\"\n",
              "              title=\"Convert this dataframe to an interactive table.\"\n",
              "              style=\"display:none;\">\n",
              "        \n",
              "  <svg xmlns=\"http://www.w3.org/2000/svg\" height=\"24px\"viewBox=\"0 0 24 24\"\n",
              "       width=\"24px\">\n",
              "    <path d=\"M0 0h24v24H0V0z\" fill=\"none\"/>\n",
              "    <path d=\"M18.56 5.44l.94 2.06.94-2.06 2.06-.94-2.06-.94-.94-2.06-.94 2.06-2.06.94zm-11 1L8.5 8.5l.94-2.06 2.06-.94-2.06-.94L8.5 2.5l-.94 2.06-2.06.94zm10 10l.94 2.06.94-2.06 2.06-.94-2.06-.94-.94-2.06-.94 2.06-2.06.94z\"/><path d=\"M17.41 7.96l-1.37-1.37c-.4-.4-.92-.59-1.43-.59-.52 0-1.04.2-1.43.59L10.3 9.45l-7.72 7.72c-.78.78-.78 2.05 0 2.83L4 21.41c.39.39.9.59 1.41.59.51 0 1.02-.2 1.41-.59l7.78-7.78 2.81-2.81c.8-.78.8-2.07 0-2.86zM5.41 20L4 18.59l7.72-7.72 1.47 1.35L5.41 20z\"/>\n",
              "  </svg>\n",
              "      </button>\n",
              "      \n",
              "  <style>\n",
              "    .colab-df-container {\n",
              "      display:flex;\n",
              "      flex-wrap:wrap;\n",
              "      gap: 12px;\n",
              "    }\n",
              "\n",
              "    .colab-df-convert {\n",
              "      background-color: #E8F0FE;\n",
              "      border: none;\n",
              "      border-radius: 50%;\n",
              "      cursor: pointer;\n",
              "      display: none;\n",
              "      fill: #1967D2;\n",
              "      height: 32px;\n",
              "      padding: 0 0 0 0;\n",
              "      width: 32px;\n",
              "    }\n",
              "\n",
              "    .colab-df-convert:hover {\n",
              "      background-color: #E2EBFA;\n",
              "      box-shadow: 0px 1px 2px rgba(60, 64, 67, 0.3), 0px 1px 3px 1px rgba(60, 64, 67, 0.15);\n",
              "      fill: #174EA6;\n",
              "    }\n",
              "\n",
              "    [theme=dark] .colab-df-convert {\n",
              "      background-color: #3B4455;\n",
              "      fill: #D2E3FC;\n",
              "    }\n",
              "\n",
              "    [theme=dark] .colab-df-convert:hover {\n",
              "      background-color: #434B5C;\n",
              "      box-shadow: 0px 1px 3px 1px rgba(0, 0, 0, 0.15);\n",
              "      filter: drop-shadow(0px 1px 2px rgba(0, 0, 0, 0.3));\n",
              "      fill: #FFFFFF;\n",
              "    }\n",
              "  </style>\n",
              "\n",
              "      <script>\n",
              "        const buttonEl =\n",
              "          document.querySelector('#df-a8a57172-6b7b-492b-9739-96efe1be5bae button.colab-df-convert');\n",
              "        buttonEl.style.display =\n",
              "          google.colab.kernel.accessAllowed ? 'block' : 'none';\n",
              "\n",
              "        async function convertToInteractive(key) {\n",
              "          const element = document.querySelector('#df-a8a57172-6b7b-492b-9739-96efe1be5bae');\n",
              "          const dataTable =\n",
              "            await google.colab.kernel.invokeFunction('convertToInteractive',\n",
              "                                                     [key], {});\n",
              "          if (!dataTable) return;\n",
              "\n",
              "          const docLinkHtml = 'Like what you see? Visit the ' +\n",
              "            '<a target=\"_blank\" href=https://colab.research.google.com/notebooks/data_table.ipynb>data table notebook</a>'\n",
              "            + ' to learn more about interactive tables.';\n",
              "          element.innerHTML = '';\n",
              "          dataTable['output_type'] = 'display_data';\n",
              "          await google.colab.output.renderOutput(dataTable, element);\n",
              "          const docLink = document.createElement('div');\n",
              "          docLink.innerHTML = docLinkHtml;\n",
              "          element.appendChild(docLink);\n",
              "        }\n",
              "      </script>\n",
              "    </div>\n",
              "  </div>\n",
              "  "
            ],
            "text/plain": [
              "                                                  name  ... duration_mins\n",
              "416  Dazed and Confused - (Live at MSG 1973) [Remas...  ...         29.31\n",
              "30            Dazed and Confused - Live in Paris, 1969  ...         15.03\n",
              "450   Whole Lotta Love - (Live at MSG 1973) [Remaster]  ...         13.87\n",
              "383                     In My Time of Dying - Remaster  ...         11.14\n",
              "63                 In My Time of Dying - 1990 Remaster  ...         11.09\n",
              "144          Moby Dick - (Live at MSG 1973) [Remaster]  ...         11.04\n",
              "286  Stairway to Heaven - (Live at MSG 1973) [Remas...  ...         10.88\n",
              "222         No Quarter - (Live at MSG 1973) [Remaster]  ...         10.64\n",
              "406                           Carouselambra - Remaster  ...         10.57\n",
              "349                     Achilles Last Stand - Remaster  ...         10.53\n",
              "\n",
              "[10 rows x 3 columns]"
            ]
          },
          "metadata": {},
          "execution_count": 56
        }
      ]
    },
    {
      "cell_type": "code",
      "metadata": {
        "colab": {
          "base_uri": "https://localhost:8080/"
        },
        "id": "Tj9CGy5dbm2B",
        "outputId": "5bf16af1-6f45-47dc-a682-def2199ff789"
      },
      "source": [
        "# How many songs from each artist?\n",
        "df['artists'].value_counts()"
      ],
      "execution_count": 57,
      "outputs": [
        {
          "output_type": "execute_result",
          "data": {
            "text/plain": [
              "['Led Zeppelin']                  293\n",
              "['Drake']                         103\n",
              "['Britney Spears']                 58\n",
              "['Drake', 'Lil Wayne']              9\n",
              "['Lil Wayne', 'Drake']              8\n",
              "                                 ... \n",
              "['Alicia Keys', 'Drake']            1\n",
              "['Rick Ross', 'Wale', 'Drake']      1\n",
              "['Britney Spears', 'Madonna']       1\n",
              "['French Montana', 'Drake']         1\n",
              "['Summer Walker', 'Drake']          1\n",
              "Name: artists, Length: 107, dtype: int64"
            ]
          },
          "metadata": {},
          "execution_count": 57
        }
      ]
    },
    {
      "cell_type": "markdown",
      "metadata": {
        "id": "kkaOsnk4GcAf"
      },
      "source": [
        "This is messy! \n",
        "\n",
        "Notice how Drake/Lil Wayne is being counted as a different artist than Lil Wayne/Drake. And in fact, any song with more than one artist is being counted separately than the main artist themselves.\n",
        "\n",
        "Luckily we have a column called `main_artist`, otherwise this dataset would require some careful cleaning:"
      ]
    },
    {
      "cell_type": "code",
      "metadata": {
        "colab": {
          "base_uri": "https://localhost:8080/"
        },
        "id": "TP6_sjRmRfUz",
        "outputId": "b15ee40e-a464-4283-d750-fac6e213e11d"
      },
      "source": [
        "df['main_artist'].value_counts()"
      ],
      "execution_count": 58,
      "outputs": [
        {
          "output_type": "execute_result",
          "data": {
            "text/plain": [
              "Zeppelin    293\n",
              "Drake       275\n",
              "Britney      68\n",
              "Name: main_artist, dtype: int64"
            ]
          },
          "metadata": {},
          "execution_count": 58
        }
      ]
    },
    {
      "cell_type": "markdown",
      "metadata": {
        "id": "WCfghucS0gpB"
      },
      "source": [
        "Let's proceed with some visual exploration of the features."
      ]
    },
    {
      "cell_type": "code",
      "metadata": {
        "colab": {
          "base_uri": "https://localhost:8080/"
        },
        "id": "ceyLI7UMFyLw",
        "outputId": "31506937-dc56-4b89-a8c4-ea8a080a0773"
      },
      "source": [
        "df.columns"
      ],
      "execution_count": 59,
      "outputs": [
        {
          "output_type": "execute_result",
          "data": {
            "text/plain": [
              "Index(['id', 'name', 'popularity', 'duration_ms', 'explicit', 'artists',\n",
              "       'id_artists', 'release_date', 'danceability', 'energy', 'key',\n",
              "       'loudness', 'mode', 'speechiness', 'acousticness', 'instrumentalness',\n",
              "       'liveness', 'valence', 'tempo', 'time_signature', 'main_artist',\n",
              "       'duration_mins'],\n",
              "      dtype='object')"
            ]
          },
          "metadata": {},
          "execution_count": 59
        }
      ]
    },
    {
      "cell_type": "markdown",
      "metadata": {
        "id": "McPKWyVPWan4"
      },
      "source": [
        "We will import [matplotlib](https://matplotlib.org/) and [seaborn](https://seaborn.pydata.org/) to help us with our visualizations. Some matplotlib code is built into pandas so we can visualize directly from a dataframe:"
      ]
    },
    {
      "cell_type": "code",
      "source": [
        ""
      ],
      "metadata": {
        "id": "RUS55mUBI7Fh"
      },
      "execution_count": 59,
      "outputs": []
    },
    {
      "cell_type": "code",
      "metadata": {
        "colab": {
          "base_uri": "https://localhost:8080/",
          "height": 295
        },
        "id": "DlRZYgcCnh19",
        "outputId": "9bb652cc-8dab-4ffb-9702-625e5845fd81"
      },
      "source": [
        "import matplotlib.pyplot as plt\n",
        "import seaborn as sns\n",
        "\n",
        "# Calculate the count per main artist, sort in descending order and plot\n",
        "df['main_artist'].value_counts().sort_values().plot(kind='barh')\n",
        "# Add axes labels and title and plot\n",
        "plt.title('Count of Total Songs by Main Artist')\n",
        "plt.ylabel('Main Artist')\n",
        "plt.xlabel('Count of Songs')\n",
        "plt.show()"
      ],
      "execution_count": 60,
      "outputs": [
        {
          "output_type": "display_data",
          "data": {
            "image/png": "[encoded data removed]",
            "text/plain": [
              "<Figure size 432x288 with 1 Axes>"
            ]
          },
          "metadata": {
            "needs_background": "light"
          }
        }
      ]
    },
    {
      "cell_type": "markdown",
      "metadata": {
        "id": "Zzf-Udr-nh19"
      },
      "source": [
        "For numerical columns (like `popularity` and most of our other song metrics), our best visual is a histogram which shows the count of songs across the range of values for each metric. We can do these using a single line from seaborn:"
      ]
    },
    {
      "cell_type": "code",
      "metadata": {
        "colab": {
          "base_uri": "https://localhost:8080/",
          "height": 279
        },
        "id": "ocB3xvMy0h98",
        "outputId": "aec88627-9d52-43c1-e722-b24e166fd403"
      },
      "source": [
        "import seaborn as sns\n",
        "import matplotlib.pyplot as plt\n",
        "\n",
        "# Histogram of popularity values\n",
        "sns.histplot(x='popularity', data=df);"
      ],
      "execution_count": 61,
      "outputs": [
        {
          "output_type": "display_data",
          "data": {
            "image/png": "[encoded data removed]",
            "text/plain": [
              "<Figure size 432x288 with 1 Axes>"
            ]
          },
          "metadata": {
            "needs_background": "light"
          }
        }
      ]
    },
    {
      "cell_type": "code",
      "metadata": {
        "colab": {
          "base_uri": "https://localhost:8080/",
          "height": 279
        },
        "id": "_Q7gzEPY0iIi",
        "outputId": "aef43f89-7e0a-4940-c194-b8520f760704"
      },
      "source": [
        "# Histogram of 'explicit' values\n",
        "sns.histplot(x='explicit', data=df);"
      ],
      "execution_count": 62,
      "outputs": [
        {
          "output_type": "display_data",
          "data": {
            "image/png": "[encoded data removed]",
            "text/plain": [
              "<Figure size 432x288 with 1 Axes>"
            ]
          },
          "metadata": {
            "needs_background": "light"
          }
        }
      ]
    },
    {
      "cell_type": "code",
      "metadata": {
        "colab": {
          "base_uri": "https://localhost:8080/",
          "height": 280
        },
        "id": "wBg1YelB0iPG",
        "outputId": "690733ae-c9c4-45ad-b1f3-c57d7f33bd77"
      },
      "source": [
        "sns.histplot(x='duration_mins', data=df);"
      ],
      "execution_count": 63,
      "outputs": [
        {
          "output_type": "display_data",
          "data": {
            "image/png": "[encoded data removed]",
            "text/plain": [
              "<Figure size 432x288 with 1 Axes>"
            ]
          },
          "metadata": {
            "needs_background": "light"
          }
        }
      ]
    },
    {
      "cell_type": "code",
      "metadata": {
        "colab": {
          "base_uri": "https://localhost:8080/",
          "height": 280
        },
        "id": "rNvvnkYI0iT4",
        "outputId": "ff47b3cc-efe0-4a83-c209-ae84efb5693f"
      },
      "source": [
        "sns.histplot(x='release_date', data=df);"
      ],
      "execution_count": 64,
      "outputs": [
        {
          "output_type": "display_data",
          "data": {
            "image/png": "[encoded data removed]",
            "text/plain": [
              "<Figure size 432x288 with 1 Axes>"
            ]
          },
          "metadata": {
            "needs_background": "light"
          }
        }
      ]
    },
    {
      "cell_type": "markdown",
      "metadata": {
        "id": "qhT_JviD0iYK"
      },
      "source": [
        "Hmm... might be more interesting to look at distribution of release year, or release month, rather than day-by-day distributions."
      ]
    },
    {
      "cell_type": "code",
      "metadata": {
        "id": "E3YMcybs0icd"
      },
      "source": [
        "# Engineer a new column for release year and release month\n",
        "df['release_date'] = pd.to_datetime(df['release_date'])"
      ],
      "execution_count": 65,
      "outputs": []
    },
    {
      "cell_type": "code",
      "metadata": {
        "colab": {
          "base_uri": "https://localhost:8080/",
          "height": 283
        },
        "id": "Hgr_fLmE0ihz",
        "outputId": "c3835d61-9b37-4482-856a-ebe38f37177d"
      },
      "source": [
        "sns.histplot(x='release_date', data=df, bins=20);"
      ],
      "execution_count": 66,
      "outputs": [
        {
          "output_type": "display_data",
          "data": {
            "image/png": "[encoded data removed]",
            "text/plain": [
              "<Figure size 432x288 with 1 Axes>"
            ]
          },
          "metadata": {
            "needs_background": "light"
          }
        }
      ]
    },
    {
      "cell_type": "code",
      "metadata": {
        "colab": {
          "base_uri": "https://localhost:8080/",
          "height": 280
        },
        "id": "jxFjIxHf0im-",
        "outputId": "7fd6a2be-0261-4a9e-c7a6-30710afadfa5"
      },
      "source": [
        "sns.histplot(df['release_date'].dt.month);"
      ],
      "execution_count": 67,
      "outputs": [
        {
          "output_type": "display_data",
          "data": {
            "image/png": "[encoded data removed]",
            "text/plain": [
              "<Figure size 432x288 with 1 Axes>"
            ]
          },
          "metadata": {
            "needs_background": "light"
          }
        }
      ]
    },
    {
      "cell_type": "markdown",
      "metadata": {
        "id": "J4ohz2xm0irv"
      },
      "source": [
        "Look how similar our code is for visualizing these columns! The only thing we need to change in each command is the column name. This is an opportunity to use loops to make our exploration more efficient!"
      ]
    },
    {
      "cell_type": "code",
      "metadata": {
        "colab": {
          "base_uri": "https://localhost:8080/"
        },
        "id": "rBt7JBjD0ivp",
        "outputId": "fc370944-ad0f-4e9b-9f4d-fad626da1742"
      },
      "source": [
        "# We already have list of column names\n",
        "df.columns"
      ],
      "execution_count": 68,
      "outputs": [
        {
          "output_type": "execute_result",
          "data": {
            "text/plain": [
              "Index(['id', 'name', 'popularity', 'duration_ms', 'explicit', 'artists',\n",
              "       'id_artists', 'release_date', 'danceability', 'energy', 'key',\n",
              "       'loudness', 'mode', 'speechiness', 'acousticness', 'instrumentalness',\n",
              "       'liveness', 'valence', 'tempo', 'time_signature', 'main_artist',\n",
              "       'duration_mins'],\n",
              "      dtype='object')"
            ]
          },
          "metadata": {},
          "execution_count": 68
        }
      ]
    },
    {
      "cell_type": "code",
      "metadata": {
        "colab": {
          "base_uri": "https://localhost:8080/",
          "height": 1000
        },
        "id": "1NFArrNrHtyb",
        "outputId": "40b634a0-6a77-4ac3-c28b-3875a5a306c9"
      },
      "source": [
        "# Let's be more selective though\n",
        "\n",
        "# Define a list of interesting columns of numerical data\n",
        "interesting_columns = ['danceability', 'energy', 'key', 'loudness', 'mode', 'speechiness', \n",
        "                       'acousticness', 'instrumentalness', 'liveness', 'valence', 'tempo']\n",
        "\n",
        "# Loop through this list, creating a histogram of each one\n",
        "for col in interesting_columns:\n",
        "\n",
        "    # Plot\n",
        "    sns.histplot(x=col, data=df, bins=20)\n",
        "    plt.title(col)\n",
        "    plt.show()\n",
        "\n",
        "    print('\\n')"
      ],
      "execution_count": 69,
      "outputs": [
        {
          "output_type": "display_data",
          "data": {
            "image/png": "[encoded data removed]",
            "text/plain": [
              "<Figure size 432x288 with 1 Axes>"
            ]
          },
          "metadata": {
            "needs_background": "light"
          }
        },
        {
          "output_type": "stream",
          "name": "stdout",
          "text": [
            "\n",
            "\n"
          ]
        },
        {
          "output_type": "display_data",
          "data": {
            "image/png": "[encoded data removed]",
            "text/plain": [
              "<Figure size 432x288 with 1 Axes>"
            ]
          },
          "metadata": {
            "needs_background": "light"
          }
        },
        {
          "output_type": "stream",
          "name": "stdout",
          "text": [
            "\n",
            "\n"
          ]
        },
        {
          "output_type": "display_data",
          "data": {
            "image/png": "[encoded data removed]",
            "text/plain": [
              "<Figure size 432x288 with 1 Axes>"
            ]
          },
          "metadata": {
            "needs_background": "light"
          }
        },
        {
          "output_type": "stream",
          "name": "stdout",
          "text": [
            "\n",
            "\n"
          ]
        },
        {
          "output_type": "display_data",
          "data": {
            "image/png": "[encoded data removed]",
            "text/plain": [
              "<Figure size 432x288 with 1 Axes>"
            ]
          },
          "metadata": {
            "needs_background": "light"
          }
        },
        {
          "output_type": "stream",
          "name": "stdout",
          "text": [
            "\n",
            "\n"
          ]
        },
        {
          "output_type": "display_data",
          "data": {
            "image/png": "[encoded data removed]",
            "text/plain": [
              "<Figure size 432x288 with 1 Axes>"
            ]
          },
          "metadata": {
            "needs_background": "light"
          }
        },
        {
          "output_type": "stream",
          "name": "stdout",
          "text": [
            "\n",
            "\n"
          ]
        },
        {
          "output_type": "display_data",
          "data": {
            "image/png": "[encoded data removed]",
            "text/plain": [
              "<Figure size 432x288 with 1 Axes>"
            ]
          },
          "metadata": {
            "needs_background": "light"
          }
        },
        {
          "output_type": "stream",
          "name": "stdout",
          "text": [
            "\n",
            "\n"
          ]
        },
        {
          "output_type": "display_data",
          "data": {
            "image/png": "[encoded data removed]",
            "text/plain": [
              "<Figure size 432x288 with 1 Axes>"
            ]
          },
          "metadata": {
            "needs_background": "light"
          }
        },
        {
          "output_type": "stream",
          "name": "stdout",
          "text": [
            "\n",
            "\n"
          ]
        },
        {
          "output_type": "display_data",
          "data": {
            "image/png": "[encoded data removed]",
            "text/plain": [
              "<Figure size 432x288 with 1 Axes>"
            ]
          },
          "metadata": {
            "needs_background": "light"
          }
        },
        {
          "output_type": "stream",
          "name": "stdout",
          "text": [
            "\n",
            "\n"
          ]
        },
        {
          "output_type": "display_data",
          "data": {
            "image/png": "[encoded data removed]",
            "text/plain": [
              "<Figure size 432x288 with 1 Axes>"
            ]
          },
          "metadata": {
            "needs_background": "light"
          }
        },
        {
          "output_type": "stream",
          "name": "stdout",
          "text": [
            "\n",
            "\n"
          ]
        },
        {
          "output_type": "display_data",
          "data": {
            "image/png": "[encoded data removed]",
            "text/plain": [
              "<Figure size 432x288 with 1 Axes>"
            ]
          },
          "metadata": {
            "needs_background": "light"
          }
        },
        {
          "output_type": "stream",
          "name": "stdout",
          "text": [
            "\n",
            "\n"
          ]
        },
        {
          "output_type": "display_data",
          "data": {
            "image/png": "[encoded data removed]",
            "text/plain": [
              "<Figure size 432x288 with 1 Axes>"
            ]
          },
          "metadata": {
            "needs_background": "light"
          }
        },
        {
          "output_type": "stream",
          "name": "stdout",
          "text": [
            "\n",
            "\n"
          ]
        }
      ]
    },
    {
      "cell_type": "markdown",
      "metadata": {
        "id": "PSsZs9LjZfcY"
      },
      "source": [
        "Remember our investigative goal: What are the audio attributes that distiguish these three artists from one another?\n",
        "\n",
        "Let's start to see **how these attributes differ by artist**. We'll filter our set of columns to just these core audio attributes:"
      ]
    },
    {
      "cell_type": "code",
      "metadata": {
        "colab": {
          "base_uri": "https://localhost:8080/"
        },
        "id": "8ozIos5oUWi4",
        "outputId": "eca2011b-b2c9-4f99-a296-b969299d32e2"
      },
      "source": [
        "df.columns"
      ],
      "execution_count": 70,
      "outputs": [
        {
          "output_type": "execute_result",
          "data": {
            "text/plain": [
              "Index(['id', 'name', 'popularity', 'duration_ms', 'explicit', 'artists',\n",
              "       'id_artists', 'release_date', 'danceability', 'energy', 'key',\n",
              "       'loudness', 'mode', 'speechiness', 'acousticness', 'instrumentalness',\n",
              "       'liveness', 'valence', 'tempo', 'time_signature', 'main_artist',\n",
              "       'duration_mins'],\n",
              "      dtype='object')"
            ]
          },
          "metadata": {},
          "execution_count": 70
        }
      ]
    },
    {
      "cell_type": "code",
      "metadata": {
        "id": "0D7IKfY4TcdG"
      },
      "source": [
        "audio_columns = ['popularity', 'duration_mins', 'key', 'danceability', 'energy', 'loudness', \n",
        "                 'speechiness', 'acousticness', 'instrumentalness', 'liveness', 'valence', 'tempo',\n",
        "                 'time_signature']"
      ],
      "execution_count": 71,
      "outputs": []
    },
    {
      "cell_type": "markdown",
      "metadata": {
        "id": "JEsFWo51aPAB"
      },
      "source": [
        "We can do this investigation using data visualization. Let's make a bar chart of average popularity per artist. Any hypotheses to start?"
      ]
    },
    {
      "cell_type": "code",
      "metadata": {
        "colab": {
          "base_uri": "https://localhost:8080/",
          "height": 280
        },
        "id": "DbUwjFK8aWzX",
        "outputId": "16ababa4-4b91-449a-cc2d-3ac9454272e6"
      },
      "source": [
        "sns.barplot(x='main_artist', y='popularity', data=df);"
      ],
      "execution_count": 72,
      "outputs": [
        {
          "output_type": "display_data",
          "data": {
            "image/png": "[encoded data removed]",
            "text/plain": [
              "<Figure size 432x288 with 1 Axes>"
            ]
          },
          "metadata": {
            "needs_background": "light"
          }
        }
      ]
    },
    {
      "cell_type": "markdown",
      "metadata": {
        "id": "Ms0Iim91ajWT"
      },
      "source": [
        "The bar height represents the average popularity score, and the black lines represent the standard deviation of the popularity scores.\n",
        "\n",
        "Looks like despite Led Zeppelin being the least popular overall by Spotify standards, Britney songs have a wider range in popularity.\n",
        "\n",
        "If we want a more granular look at these metrics, we can turn to statistical plots like a boxplot:"
      ]
    },
    {
      "cell_type": "code",
      "metadata": {
        "colab": {
          "base_uri": "https://localhost:8080/",
          "height": 280
        },
        "id": "xN8j7EpyWi3V",
        "outputId": "80ea2e37-c069-4c92-ed8a-bc9896596463"
      },
      "source": [
        "sns.boxplot(x='main_artist', y='popularity', data=df);"
      ],
      "execution_count": 73,
      "outputs": [
        {
          "output_type": "display_data",
          "data": {
            "image/png": "[encoded data removed]",
            "text/plain": [
              "<Figure size 432x288 with 1 Axes>"
            ]
          },
          "metadata": {
            "needs_background": "light"
          }
        }
      ]
    },
    {
      "cell_type": "markdown",
      "metadata": {
        "id": "Djn7enMNcNuD"
      },
      "source": [
        "Boxplots show us the median, 1st and 3rd quartile of our data -- great for understanding its central tendencies. The \"whiskers\" show us the extent of the data up until seaborn determines we've entered the range of outlier points, which are represented by individual dots. (1.5 * the interquartile range). Boxplots are a much more condensed way of depicting information about a distribution of a variable across categories, as could be done with multiple histograms as below:"
      ]
    },
    {
      "cell_type": "code",
      "metadata": {
        "colab": {
          "base_uri": "https://localhost:8080/",
          "height": 278
        },
        "id": "IH0b3BQ7nh1_",
        "outputId": "0e43a742-8927-46c1-b921-934abdc3dad3"
      },
      "source": [
        "sns.displot(x='popularity', hue='main_artist', col='main_artist', data=df)\n",
        "plt.show()"
      ],
      "execution_count": 74,
      "outputs": [
        {
          "output_type": "display_data",
          "data": {
            "image/png": "[encoded data removed]",
            "text/plain": [
              "<Figure size 1159.75x360 with 3 Axes>"
            ]
          },
          "metadata": {
            "needs_background": "light"
          }
        }
      ]
    },
    {
      "cell_type": "markdown",
      "metadata": {
        "id": "YGbyaP3e0-2h"
      },
      "source": [
        "We can go even further with a strip plot. Here each point is plotted for its corresponding y-value, separated on the x-axis into the categories as with the boxplot. The horizontal position of the point for each category is not important, only to allow us to see all the data with minimal overlapping. We can also control the size of the plotted points, here with the `s=3` argument."
      ]
    },
    {
      "cell_type": "code",
      "metadata": {
        "colab": {
          "base_uri": "https://localhost:8080/",
          "height": 280
        },
        "id": "_Uhgtv3R09oY",
        "outputId": "9ab91f42-777c-40be-c75a-fc2c34dd6853"
      },
      "source": [
        "sns.stripplot(x='main_artist', y='popularity', data=df, s=3);"
      ],
      "execution_count": 75,
      "outputs": [
        {
          "output_type": "display_data",
          "data": {
            "image/png": "[encoded data removed]",
            "text/plain": [
              "<Figure size 432x288 with 1 Axes>"
            ]
          },
          "metadata": {
            "needs_background": "light"
          }
        }
      ]
    },
    {
      "cell_type": "code",
      "metadata": {
        "colab": {
          "base_uri": "https://localhost:8080/",
          "height": 284
        },
        "id": "Q4gJKqF2bCKO",
        "outputId": "70cf498f-cb9b-4ea9-d9e8-7a53a70f0d7a"
      },
      "source": [
        "# Let's do the same for duration\n",
        "sns.stripplot(x='main_artist', y='duration_mins', data=df, s=3)\n",
        "plt.ylim(0,10) # restricts the range of the y-axis from 0 to 10\n",
        "plt.show()"
      ],
      "execution_count": 76,
      "outputs": [
        {
          "output_type": "display_data",
          "data": {
            "image/png": "[encoded data removed]",
            "text/plain": [
              "<Figure size 432x288 with 1 Axes>"
            ]
          },
          "metadata": {
            "needs_background": "light"
          }
        }
      ]
    },
    {
      "cell_type": "markdown",
      "metadata": {
        "id": "0X4M46NL11xf"
      },
      "source": [
        "Notice how similar our code is across these visualizations again? All we need is to swap in a different column name in the `stripplot` function. Time to use more loops!"
      ]
    },
    {
      "cell_type": "code",
      "metadata": {
        "id": "P5_4sq2T2ANR",
        "outputId": "de326561-5acf-43cb-ff9c-8d82cd44b879",
        "colab": {
          "base_uri": "https://localhost:8080/"
        }
      },
      "source": [
        "audio_columns"
      ],
      "execution_count": 77,
      "outputs": [
        {
          "output_type": "execute_result",
          "data": {
            "text/plain": [
              "['popularity',\n",
              " 'duration_mins',\n",
              " 'key',\n",
              " 'danceability',\n",
              " 'energy',\n",
              " 'loudness',\n",
              " 'speechiness',\n",
              " 'acousticness',\n",
              " 'instrumentalness',\n",
              " 'liveness',\n",
              " 'valence',\n",
              " 'tempo',\n",
              " 'time_signature']"
            ]
          },
          "metadata": {},
          "execution_count": 77
        }
      ]
    },
    {
      "cell_type": "code",
      "metadata": {
        "colab": {
          "base_uri": "https://localhost:8080/",
          "height": 1000
        },
        "id": "4s6pN2sN2Cp9",
        "outputId": "2cd79568-9722-4985-c9a7-bb3c25afd043"
      },
      "source": [
        "# for each column name in our list\n",
        "for column in audio_columns:\n",
        "\n",
        "    # draw a strip plot with an informative title\n",
        "    sns.stripplot(x='main_artist', y = column, data=df, s=3)\n",
        "    plt.title(column)\n",
        "    plt.show()\n",
        "\n",
        "    # and print a blank line for extra space\n",
        "    print('\\n')"
      ],
      "execution_count": 78,
      "outputs": [
        {
          "output_type": "display_data",
          "data": {
            "image/png": "[encoded data removed]",
            "text/plain": [
              "<Figure size 432x288 with 1 Axes>"
            ]
          },
          "metadata": {
            "needs_background": "light"
          }
        },
        {
          "output_type": "stream",
          "name": "stdout",
          "text": [
            "\n",
            "\n"
          ]
        },
        {
          "output_type": "display_data",
          "data": {
            "image/png": "[encoded data removed]",
            "text/plain": [
              "<Figure size 432x288 with 1 Axes>"
            ]
          },
          "metadata": {
            "needs_background": "light"
          }
        },
        {
          "output_type": "stream",
          "name": "stdout",
          "text": [
            "\n",
            "\n"
          ]
        },
        {
          "output_type": "display_data",
          "data": {
            "image/png": "[encoded data removed]",
            "text/plain": [
              "<Figure size 432x288 with 1 Axes>"
            ]
          },
          "metadata": {
            "needs_background": "light"
          }
        },
        {
          "output_type": "stream",
          "name": "stdout",
          "text": [
            "\n",
            "\n"
          ]
        },
        {
          "output_type": "display_data",
          "data": {
            "image/png": "[encoded data removed]",
            "text/plain": [
              "<Figure size 432x288 with 1 Axes>"
            ]
          },
          "metadata": {
            "needs_background": "light"
          }
        },
        {
          "output_type": "stream",
          "name": "stdout",
          "text": [
            "\n",
            "\n"
          ]
        },
        {
          "output_type": "display_data",
          "data": {
            "image/png": "[encoded data removed]",
            "text/plain": [
              "<Figure size 432x288 with 1 Axes>"
            ]
          },
          "metadata": {
            "needs_background": "light"
          }
        },
        {
          "output_type": "stream",
          "name": "stdout",
          "text": [
            "\n",
            "\n"
          ]
        },
        {
          "output_type": "display_data",
          "data": {
            "image/png": "[encoded data removed]",
            "text/plain": [
              "<Figure size 432x288 with 1 Axes>"
            ]
          },
          "metadata": {
            "needs_background": "light"
          }
        },
        {
          "output_type": "stream",
          "name": "stdout",
          "text": [
            "\n",
            "\n"
          ]
        },
        {
          "output_type": "display_data",
          "data": {
            "image/png": "[encoded data removed]",
            "text/plain": [
              "<Figure size 432x288 with 1 Axes>"
            ]
          },
          "metadata": {
            "needs_background": "light"
          }
        },
        {
          "output_type": "stream",
          "name": "stdout",
          "text": [
            "\n",
            "\n"
          ]
        },
        {
          "output_type": "display_data",
          "data": {
            "image/png": "[encoded data removed]",
            "text/plain": [
              "<Figure size 432x288 with 1 Axes>"
            ]
          },
          "metadata": {
            "needs_background": "light"
          }
        },
        {
          "output_type": "stream",
          "name": "stdout",
          "text": [
            "\n",
            "\n"
          ]
        },
        {
          "output_type": "display_data",
          "data": {
            "image/png": "[encoded data removed]",
            "text/plain": [
              "<Figure size 432x288 with 1 Axes>"
            ]
          },
          "metadata": {
            "needs_background": "light"
          }
        },
        {
          "output_type": "stream",
          "name": "stdout",
          "text": [
            "\n",
            "\n"
          ]
        },
        {
          "output_type": "display_data",
          "data": {
            "image/png": "[encoded data removed]",
            "text/plain": [
              "<Figure size 432x288 with 1 Axes>"
            ]
          },
          "metadata": {
            "needs_background": "light"
          }
        },
        {
          "output_type": "stream",
          "name": "stdout",
          "text": [
            "\n",
            "\n"
          ]
        },
        {
          "output_type": "display_data",
          "data": {
            "image/png": "[encoded data removed]",
            "text/plain": [
              "<Figure size 432x288 with 1 Axes>"
            ]
          },
          "metadata": {
            "needs_background": "light"
          }
        },
        {
          "output_type": "stream",
          "name": "stdout",
          "text": [
            "\n",
            "\n"
          ]
        },
        {
          "output_type": "display_data",
          "data": {
            "image/png": "[encoded data removed]",
            "text/plain": [
              "<Figure size 432x288 with 1 Axes>"
            ]
          },
          "metadata": {
            "needs_background": "light"
          }
        },
        {
          "output_type": "stream",
          "name": "stdout",
          "text": [
            "\n",
            "\n"
          ]
        },
        {
          "output_type": "display_data",
          "data": {
            "image/png": "[encoded data removed]",
            "text/plain": [
              "<Figure size 432x288 with 1 Axes>"
            ]
          },
          "metadata": {
            "needs_background": "light"
          }
        },
        {
          "output_type": "stream",
          "name": "stdout",
          "text": [
            "\n",
            "\n"
          ]
        }
      ]
    },
    {
      "cell_type": "markdown",
      "metadata": {
        "id": "BViI8N05Bswy"
      },
      "source": [
        "Looks like there’s clear differences between artists across some of these metrics. This makes me wonder: Given some song data from an unknown artist, could I predict which of these three it’s most likely to be?\n",
        "\n",
        "I suspect that if we **did** receive some of these audio statistics but didn't know which artist it belongs to, we could classify it. We can do that with only a few lines of code in [scikit-learn](https://scikit-learn.org/stable/), the machine learning package for python:"
      ]
    },
    {
      "cell_type": "code",
      "source": [
        "print(audio_columns)"
      ],
      "metadata": {
        "colab": {
          "base_uri": "https://localhost:8080/"
        },
        "id": "RAZuWlNlN6Qg",
        "outputId": "28c062d2-ea40-4a25-f107-47fb78b97e0c"
      },
      "execution_count": 79,
      "outputs": [
        {
          "output_type": "stream",
          "name": "stdout",
          "text": [
            "['popularity', 'duration_mins', 'key', 'danceability', 'energy', 'loudness', 'speechiness', 'acousticness', 'instrumentalness', 'liveness', 'valence', 'tempo', 'time_signature']\n"
          ]
        }
      ]
    },
    {
      "cell_type": "code",
      "metadata": {
        "colab": {
          "base_uri": "https://localhost:8080/"
        },
        "id": "IU6rJ5bDnh2A",
        "outputId": "37633789-167b-4342-9cdf-1417c779aaf2"
      },
      "source": [
        "from sklearn.linear_model import LogisticRegression\n",
        "import numpy as np\n",
        "\n",
        "# Pull out the main artist as the target to be predicted and the audio columns\n",
        "y = df['main_artist']\n",
        "X = df[audio_columns]\n",
        "\n",
        "# Instantiate and fit a model\n",
        "lr = LogisticRegression(solver='liblinear')\n",
        "lr.fit(X, y)\n",
        "\n",
        "# Calculate the accuracy score (%)\n",
        "np.round(lr.score(X,y)*100.0,3)"
      ],
      "execution_count": 80,
      "outputs": [
        {
          "output_type": "execute_result",
          "data": {
            "text/plain": [
              "91.981"
            ]
          },
          "metadata": {},
          "execution_count": 80
        }
      ]
    },
    {
      "cell_type": "markdown",
      "metadata": {
        "id": "JnPLLACPnh2A"
      },
      "source": [
        "Given the audio features provided, we can predict with ~92% accuracy which artist performed the song--**amazing**! And this is just scratching the surface of what machine learning can do..."
      ]
    },
    {
      "cell_type": "code",
      "source": [
        ""
      ],
      "metadata": {
        "id": "sBfkQ5lWzEUw"
      },
      "execution_count": 80,
      "outputs": []
    }
  ]
}